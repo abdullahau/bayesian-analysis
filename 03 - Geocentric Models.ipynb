{
 "cells": [
  {
   "cell_type": "markdown",
   "metadata": {},
   "source": [
    "## 03 - Geocentric Models"
   ]
  },
  {
   "cell_type": "markdown",
   "metadata": {},
   "source": [
    "#### Imports"
   ]
  },
  {
   "cell_type": "code",
   "execution_count": 1,
   "metadata": {},
   "outputs": [
    {
     "name": "stdout",
     "output_type": "stream",
     "text": [
      "\u001b[31mModule aliases imported by init_notebook.py:\n",
      "--------------------------------------------\n",
      "\u001b[32mimport\u001b[34m numpy \u001b[32mas\u001b[34m np\n",
      "\n",
      "\u001b[32mimport\u001b[34m pandas \u001b[32mas\u001b[34m pd\n",
      "\n",
      "\u001b[32mimport\u001b[34m statsmodels.formula.api \u001b[32mas\u001b[34m smf\n",
      "\n",
      "\u001b[32mimport\u001b[34m pymc \u001b[32mas\u001b[34m pm\n",
      "\n",
      "\u001b[32mimport\u001b[34m xarray \u001b[32mas\u001b[34m xr\n",
      "\n",
      "\u001b[32mimport\u001b[34m arviz \u001b[32mas\u001b[34m az\n",
      "\n",
      "\u001b[32mimport\u001b[34m utils \u001b[32mas\u001b[34m utils\n",
      "\n",
      "\u001b[32mfrom\u001b[34m scipy \u001b[32mimport\u001b[34m stats \u001b[32mas\u001b[34m stats\n",
      "\n",
      "\u001b[32mfrom\u001b[34m matplotlib \u001b[32mimport\u001b[34m pyplot \u001b[32mas\u001b[34m plt\n",
      "\n",
      "\u001b[31mWatermark:\n",
      "----------\n",
      "\u001b[34mLast updated: 2025-02-02T12:53:46.911025+04:00\n",
      "\n",
      "Python implementation: CPython\n",
      "Python version       : 3.13.1\n",
      "IPython version      : 8.32.0\n",
      "\n",
      "Compiler    : Clang 16.0.0 (clang-1600.0.26.4)\n",
      "OS          : Darwin\n",
      "Release     : 24.3.0\n",
      "Machine     : arm64\n",
      "Processor   : arm\n",
      "CPU cores   : 8\n",
      "Architecture: 64bit\n",
      "\n",
      "\u001b[34mnumpy      : 1.26.4\n",
      "xarray     : 2025.1.1\n",
      "statsmodels: 0.14.4\n",
      "arviz      : 0.20.0\n",
      "pandas     : 2.2.3\n",
      "pymc       : 5.20.0\n",
      "scipy      : 1.15.1\n",
      "watermark  : 2.5.0\n",
      "matplotlib : 3.10.0\n",
      "\n"
     ]
    }
   ],
   "source": [
    "# ruff: noqa: F405\n",
    "from init_notebook import *\n",
    "\n",
    "%config InlineBackend.figure_formats = ['svg']"
   ]
  },
  {
   "cell_type": "markdown",
   "metadata": {},
   "source": [
    "#### Introduction"
   ]
  },
  {
   "cell_type": "markdown",
   "metadata": {},
   "source": [
    "**Linear regression** is the geocentric model of applied statistics. By “linear regression,” we will mean a family of simple statistical golems that attempt to learn about the mean and variance of some measurement, using an additive combination of other measurements. Like geocentrism, linear regression can usefully describe a very large variety of natural phenomena. Like geocentrism, linear regression is a descriptive model that corresponds to many different process models. If we read its structure too literally, we’re likely to make mistakes. But used wisely, these little linear golems continue to be useful.\n",
    "\n",
    "This notebook introduces linear regression as a Bayesian procedure. Under a probability interpretation, which is necessary for Bayesian work, linear regression uses a Gaussian (normal) distribution to describe our model’s uncertainty about some measurement of interest. This type of model is simple, flexible, and commonplace. Like all statistical models, it is not universally useful. But linear regression has a strong claim to being foundational, in the sense that once you learn to build and interpret linear regression models, you can more easily move on to other types of regression which are less normal.\n",
    "\n",
    "*Fourier series*, a way of decomposing a periodic function into a series of sine and cosine functions."
   ]
  }
 ],
 "metadata": {
  "kernelspec": {
   "display_name": "main",
   "language": "python",
   "name": "main"
  },
  "language_info": {
   "codemirror_mode": {
    "name": "ipython",
    "version": 3
   },
   "file_extension": ".py",
   "mimetype": "text/x-python",
   "name": "python",
   "nbconvert_exporter": "python",
   "pygments_lexer": "ipython3",
   "version": "3.13.1"
  }
 },
 "nbformat": 4,
 "nbformat_minor": 2
}
