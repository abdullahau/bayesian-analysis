{
 "cells": [
  {
   "cell_type": "code",
   "execution_count": null,
   "metadata": {},
   "outputs": [],
   "source": [
    "import stan\n",
    "\n",
    "schools_code = \"\"\"\n",
    "data {\n",
    "  int<lower=0> J;         // number of schools\n",
    "  array[J] real y;              // estimated treatment effects\n",
    "  array[J] real<lower=0> sigma; // standard error of effect estimates\n",
    "}\n",
    "parameters {\n",
    "  real mu;                // population treatment effect\n",
    "  real<lower=0> tau;      // standard deviation in treatment effects\n",
    "  vector[J] eta;          // unscaled deviation from mu by school\n",
    "}\n",
    "transformed parameters {\n",
    "  vector[J] theta = mu + tau * eta;        // school treatment effects\n",
    "}\n",
    "model {\n",
    "  target += normal_lpdf(eta | 0, 1);       // prior log-density\n",
    "  target += normal_lpdf(y | theta, sigma); // log-likelihood\n",
    "}\n",
    "\"\"\""
   ]
  }
 ],
 "metadata": {
  "kernelspec": {
   "display_name": "base",
   "language": "python",
   "name": "python3"
  },
  "language_info": {
   "name": "python",
   "version": "3.12.8"
  }
 },
 "nbformat": 4,
 "nbformat_minor": 2
}
