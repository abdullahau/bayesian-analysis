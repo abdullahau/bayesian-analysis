{
 "cells": [
  {
   "cell_type": "code",
   "execution_count": 2,
   "metadata": {},
   "outputs": [],
   "source": [
    "import numpy as np\n",
    "import pandas as pd\n",
    "import arviz as az\n",
    "from cmdstanpy import CmdStanModel"
   ]
  },
  {
   "cell_type": "code",
   "execution_count": 3,
   "metadata": {},
   "outputs": [],
   "source": [
    "def center(vals: np.ndarray) -> np.ndarray:\n",
    "    return vals - np.nanmean(vals)\n",
    "\n",
    "\n",
    "def standardize(vals: np.ndarray) -> np.ndarray:\n",
    "    centered_vals = center(vals)\n",
    "    return centered_vals / np.nanstd(centered_vals)"
   ]
  },
  {
   "cell_type": "code",
   "execution_count": 4,
   "metadata": {},
   "outputs": [],
   "source": [
    "d = pd.read_csv('../../data/WaffleDivorce.csv', sep=';', header=0)\n",
    "d['A'] = standardize(d['MedianAgeMarriage'])\n",
    "d['D'] = standardize(d['Divorce'])\n",
    "d['M'] = standardize(d['Marriage'])"
   ]
  },
  {
   "cell_type": "code",
   "execution_count": 5,
   "metadata": {},
   "outputs": [],
   "source": [
    "divorce_code = '''\n",
    "data{\n",
    "    int<lower=1> N;\n",
    "    int<lower=1> N_M;\n",
    "    vector[N] D;\n",
    "    vector[N_M] M;\n",
    "    vector[N] A;\n",
    "}\n",
    "\n",
    "parameters{\n",
    "    real a;\n",
    "    real bM;\n",
    "    real bA;\n",
    "    real<lower=0> sigma;\n",
    "    real aM;\n",
    "    real bAM;\n",
    "    real<lower=0> sigma_M;\n",
    "}\n",
    "\n",
    "model{\n",
    "    vector[N_M] mu_M;\n",
    "    sigma_M ~ exponential(1);\n",
    "    bAM ~ normal(0, 0.5);\n",
    "    aM ~ normal(0, 0.2);\n",
    "    for ( i in 1:N_M ) {\n",
    "        mu_M[i] = aM + bAM * A[i];\n",
    "    }\n",
    "    M ~ normal(mu_M, sigma_M);\n",
    "    \n",
    "    vector[N] mu;\n",
    "    sigma ~ exponential(1);\n",
    "    bA ~ normal(0, 0.5);\n",
    "    bM ~ normal(0, 0.5);\n",
    "    a ~ normal(0, 0.2);\n",
    "    for ( i in 1:N ) {\n",
    "        mu[i] = a + bM * M[i] + bA * A[i];\n",
    "    }\n",
    "    D ~ normal(mu, sigma);\n",
    "}\n",
    "\n",
    "generated quantities{\n",
    "    vector[N_M] mu_M;\n",
    "    vector[N] mu;\n",
    "    for ( i in 1:N_M ) {\n",
    "        mu_M[i] = aM + bAM * A[i];\n",
    "    }\n",
    "    for (i in 1:N) {\n",
    "        mu[i] = a + bM * M[i] + bA * A[i];\n",
    "    }\n",
    "}\n",
    "\n",
    "'''"
   ]
  },
  {
   "cell_type": "code",
   "execution_count": 9,
   "metadata": {},
   "outputs": [
    {
     "name": "stderr",
     "output_type": "stream",
     "text": [
      "20:56:07 - cmdstanpy - INFO - compiling stan file /Users/rehabnaeem/Documents/Coding-Projects/bayesian-analysis/references/Stan-Modelling/stan_models/waffledivorce.stan to exe file /Users/rehabnaeem/Documents/Coding-Projects/bayesian-analysis/references/Stan-Modelling/stan_models/waffledivorce\n",
      "20:56:16 - cmdstanpy - INFO - compiled model executable: /Users/rehabnaeem/Documents/Coding-Projects/bayesian-analysis/references/Stan-Modelling/stan_models/waffledivorce\n"
     ]
    }
   ],
   "source": [
    "stan_file = './stan_models/waffledivorce.stan'\n",
    "with open(stan_file, 'w') as f:\n",
    "    print(divorce_code, file=f)\n",
    "\n",
    "stan_model = CmdStanModel(stan_file=stan_file)"
   ]
  },
  {
   "cell_type": "code",
   "execution_count": 10,
   "metadata": {},
   "outputs": [],
   "source": [
    "data = d[['A', 'M', 'D']].to_dict(orient='list')\n",
    "data['N'] = len(data['A'])\n",
    "data['N_M'] = len(data['M'])"
   ]
  },
  {
   "cell_type": "code",
   "execution_count": 16,
   "metadata": {},
   "outputs": [
    {
     "name": "stderr",
     "output_type": "stream",
     "text": [
      "21:03:31 - cmdstanpy - INFO - CmdStan start processing\n"
     ]
    },
    {
     "data": {
      "application/vnd.jupyter.widget-view+json": {
       "model_id": "cbd8a200298d48e88d47d38a25daf0cb",
       "version_major": 2,
       "version_minor": 0
      },
      "text/plain": [
       "chain 1 |          | 00:00 Status"
      ]
     },
     "metadata": {},
     "output_type": "display_data"
    },
    {
     "data": {
      "application/vnd.jupyter.widget-view+json": {
       "model_id": "2efebf4c7de349fdbfd710ee45ed44fe",
       "version_major": 2,
       "version_minor": 0
      },
      "text/plain": [
       "chain 2 |          | 00:00 Status"
      ]
     },
     "metadata": {},
     "output_type": "display_data"
    },
    {
     "data": {
      "application/vnd.jupyter.widget-view+json": {
       "model_id": "be4e410b6a234edea1ecb8e9e3243f33",
       "version_major": 2,
       "version_minor": 0
      },
      "text/plain": [
       "chain 3 |          | 00:00 Status"
      ]
     },
     "metadata": {},
     "output_type": "display_data"
    },
    {
     "data": {
      "application/vnd.jupyter.widget-view+json": {
       "model_id": "928e3c8f7e3e4f6a8b1c0be3c471b1af",
       "version_major": 2,
       "version_minor": 0
      },
      "text/plain": [
       "chain 4 |          | 00:00 Status"
      ]
     },
     "metadata": {},
     "output_type": "display_data"
    },
    {
     "name": "stdout",
     "output_type": "stream",
     "text": [
      "                                                                                                                                                                                                                                                                                                                                "
     ]
    },
    {
     "name": "stderr",
     "output_type": "stream",
     "text": [
      "21:03:32 - cmdstanpy - INFO - CmdStan done processing.\n",
      "21:03:32 - cmdstanpy - WARNING - Non-fatal error during sampling:\n",
      "Exception: normal_lpdf: Scale parameter is 0, but must be positive! (in 'waffledivorce.stan', line 28, column 4 to column 30)\n",
      "Exception: normal_lpdf: Scale parameter is 0, but must be positive! (in 'waffledivorce.stan', line 38, column 4 to column 26)\n",
      "Consider re-running with show_console=True if the above output is unclear!\n"
     ]
    },
    {
     "name": "stdout",
     "output_type": "stream",
     "text": [
      "\n"
     ]
    }
   ],
   "source": [
    "fit = stan_model.sample(data=data)"
   ]
  },
  {
   "cell_type": "code",
   "execution_count": 37,
   "metadata": {},
   "outputs": [
    {
     "data": {
      "application/vnd.microsoft.datawrangler.viewer.v0+json": {
       "columns": [
        {
         "name": "index",
         "rawType": "object",
         "type": "string"
        },
        {
         "name": "Mean",
         "rawType": "float64",
         "type": "float"
        },
        {
         "name": "MCSE",
         "rawType": "float64",
         "type": "float"
        },
        {
         "name": "StdDev",
         "rawType": "float64",
         "type": "float"
        },
        {
         "name": "MAD",
         "rawType": "float64",
         "type": "float"
        },
        {
         "name": "5.5%",
         "rawType": "float64",
         "type": "float"
        },
        {
         "name": "94.5%",
         "rawType": "float64",
         "type": "float"
        },
        {
         "name": "ESS_bulk",
         "rawType": "float64",
         "type": "float"
        },
        {
         "name": "ESS_tail",
         "rawType": "float64",
         "type": "float"
        },
        {
         "name": "R_hat",
         "rawType": "float64",
         "type": "float"
        }
       ],
       "conversionMethod": "pd.DataFrame",
       "ref": "d985b654-0168-47ef-b760-0d0373e779f6",
       "rows": [
        [
         "lp__",
         "-27.887",
         "0.0492545",
         "1.96053",
         "1.77534",
         "-31.4624",
         "-25.4446",
         "1708.53",
         "2084.2",
         "1.00109"
        ],
        [
         "a",
         "0.000776176",
         "0.00128804",
         "0.099667",
         "0.0972589",
         "-0.161443",
         "0.159908",
         "6046.8",
         "2649.27",
         "0.999834"
        ],
        [
         "bM",
         "-0.0580459",
         "0.00269442",
         "0.157668",
         "0.154681",
         "-0.312126",
         "0.189295",
         "3490.08",
         "2810.22",
         "1.00065"
        ],
        [
         "bA",
         "-0.604529",
         "0.00275654",
         "0.160781",
         "0.158365",
         "-0.867456",
         "-0.343911",
         "3446.94",
         "3009.61",
         "1.00134"
        ],
        [
         "sigma",
         "0.836453",
         "0.00125899",
         "0.0879017",
         "0.0862747",
         "0.707221",
         "0.987352",
         "5195.01",
         "2881.47",
         "1.00088"
        ],
        [
         "aM",
         "0.00162796",
         "0.00128279",
         "0.0907591",
         "0.0892124",
         "-0.139474",
         "0.147815",
         "5077.16",
         "3010.48",
         "1.00405"
        ],
        [
         "bAM",
         "-0.691167",
         "0.00140167",
         "0.100377",
         "0.101316",
         "-0.851136",
         "-0.528085",
         "5191.64",
         "2574.41",
         "1.00212"
        ],
        [
         "sigma_M",
         "0.720875",
         "0.00110583",
         "0.0756414",
         "0.0736207",
         "0.612885",
         "0.850678",
         "5329.14",
         "2411.08",
         "1.00059"
        ],
        [
         "mu_M[1]",
         "0.42493",
         "0.00152066",
         "0.108554",
         "0.107751",
         "0.252518",
         "0.596914",
         "5249.78",
         "3074.96",
         "1.00207"
        ],
        [
         "mu_M[2]",
         "0.48107",
         "0.00157873",
         "0.113235",
         "0.112104",
         "0.302556",
         "0.660341",
         "5316.17",
         "3028.51",
         "1.00195"
        ],
        [
         "mu_M[3]",
         "0.144226",
         "0.00130761",
         "0.0926704",
         "0.0902496",
         "0.00133115",
         "0.290499",
         "5094.68",
         "3140.88",
         "1.00246"
        ],
        [
         "mu_M[4]",
         "0.986337",
         "0.00230071",
         "0.167773",
         "0.166306",
         "0.721556",
         "1.25673",
         "5417.82",
         "2692.2",
         "1.00201"
        ],
        [
         "mu_M[5]",
         "-0.417182",
         "0.00155024",
         "0.110302",
         "0.108789",
         "-0.591643",
         "-0.24138",
         "5195.77",
         "2750.5",
         "1.00346"
        ],
        [
         "mu_M[6]",
         "0.200366",
         "0.00133677",
         "0.0946634",
         "0.0934275",
         "0.0542286",
         "0.350755",
         "5096.33",
         "3094.69",
         "1.0022"
        ],
        [
         "mu_M[7]",
         "-0.866309",
         "0.00220967",
         "0.156851",
         "0.159749",
         "-1.10813",
         "-0.613684",
         "5139.19",
         "2982.72",
         "1.00321"
        ],
        [
         "mu_M[8]",
         "-0.304901",
         "0.00144076",
         "0.101918",
         "0.100026",
         "-0.465304",
         "-0.141662",
         "5135.32",
         "2812.12",
         "1.00372"
        ],
        [
         "mu_M[9]",
         "-2.04527",
         "0.0043984",
         "0.312616",
         "0.311857",
         "-2.53565",
         "-1.54411",
         "5115.87",
         "2821.22",
         "1.00327"
        ],
        [
         "mu_M[10]",
         "-0.192619",
         "0.00135518",
         "0.0956017",
         "0.093071",
         "-0.343602",
         "-0.0390915",
         "5090.21",
         "2725.14",
         "1.0046"
        ],
        [
         "mu_M[11]",
         "0.0880848",
         "0.00128738",
         "0.0913641",
         "0.0899424",
         "-0.053886",
         "0.232486",
         "5110.73",
         "3066.66",
         "1.00254"
        ],
        [
         "mu_M[12]",
         "-0.473323",
         "0.00161739",
         "0.115134",
         "0.113795",
         "-0.653678",
         "-0.289411",
         "5186.29",
         "2865.32",
         "1.00381"
        ],
        [
         "mu_M[13]",
         "1.60389",
         "0.00342994",
         "0.248",
         "0.244985",
         "1.21077",
         "2.00122",
         "5303.65",
         "2501.34",
         "1.0019"
        ],
        [
         "mu_M[14]",
         "-0.529464",
         "0.00169049",
         "0.120324",
         "0.120048",
         "-0.718035",
         "-0.333927",
         "5178.52",
         "2841.03",
         "1.00403"
        ],
        [
         "mu_M[15]",
         "0.200366",
         "0.00133677",
         "0.0946634",
         "0.0934275",
         "0.0542286",
         "0.350755",
         "5096.33",
         "3094.69",
         "1.0022"
        ],
        [
         "mu_M[16]",
         "0.368789",
         "0.00146821",
         "0.104302",
         "0.103048",
         "0.204158",
         "0.532707",
         "5200.07",
         "3001.94",
         "1.00211"
        ],
        [
         "mu_M[17]",
         "0.593352",
         "0.0017094",
         "0.123682",
         "0.12185",
         "0.397022",
         "0.791168",
         "5417.98",
         "2891.87",
         "1.00162"
        ],
        [
         "mu_M[18]",
         "0.705633",
         "0.00185596",
         "0.135293",
         "0.133001",
         "0.491456",
         "0.920702",
         "5435.09",
         "2805.92",
         "1.00182"
        ],
        [
         "mu_M[19]",
         "0.0880848",
         "0.00128738",
         "0.0913641",
         "0.0899424",
         "-0.053886",
         "0.232486",
         "5110.73",
         "3066.66",
         "1.00254"
        ],
        [
         "mu_M[20]",
         "-0.192619",
         "0.00135518",
         "0.0956017",
         "0.093071",
         "-0.343602",
         "-0.0390915",
         "5090.21",
         "2725.14",
         "1.0046"
        ],
        [
         "mu_M[21]",
         "-0.697886",
         "0.00193642",
         "0.137629",
         "0.137653",
         "-0.912582",
         "-0.478928",
         "5145.66",
         "2886.38",
         "1.00358"
        ],
        [
         "mu_M[22]",
         "-1.37158",
         "0.00311147",
         "0.220823",
         "0.225718",
         "-1.71573",
         "-1.01665",
         "5108.45",
         "2911.53",
         "1.00333"
        ],
        [
         "mu_M[23]",
         "-0.192619",
         "0.00135518",
         "0.0956017",
         "0.093071",
         "-0.343602",
         "-0.0390915",
         "5090.21",
         "2725.14",
         "1.0046"
        ],
        [
         "mu_M[24]",
         "-0.136478",
         "0.00132353",
         "0.0933559",
         "0.0909944",
         "-0.283648",
         "0.0142612",
         "5086.66",
         "2564.19",
         "1.00555"
        ],
        [
         "mu_M[25]",
         "0.144226",
         "0.00130761",
         "0.0926704",
         "0.0902496",
         "0.00133115",
         "0.290499",
         "5094.68",
         "3140.88",
         "1.00246"
        ],
        [
         "mu_M[26]",
         "0.256507",
         "0.0013743",
         "0.0973008",
         "0.0964172",
         "0.10519",
         "0.409703",
         "5119.11",
         "3046.84",
         "1.00231"
        ],
        [
         "mu_M[27]",
         "0.200366",
         "0.00133677",
         "0.0946634",
         "0.0934275",
         "0.0542286",
         "0.350755",
         "5096.33",
         "3094.69",
         "1.0022"
        ],
        [
         "mu_M[28]",
         "0.368789",
         "0.00146821",
         "0.104302",
         "0.103048",
         "0.204158",
         "0.532707",
         "5200.07",
         "3001.94",
         "1.00211"
        ],
        [
         "mu_M[29]",
         "-0.417182",
         "0.00155024",
         "0.110302",
         "0.108789",
         "-0.591643",
         "-0.24138",
         "5195.77",
         "2750.5",
         "1.00346"
        ],
        [
         "mu_M[30]",
         "-0.922449",
         "0.0023048",
         "0.163569",
         "0.166493",
         "-1.1752",
         "-0.659567",
         "5128.38",
         "2936.49",
         "1.0032"
        ],
        [
         "mu_M[31]",
         "0.144226",
         "0.00130761",
         "0.0926704",
         "0.0902496",
         "0.00133115",
         "0.290499",
         "5094.68",
         "3140.88",
         "1.00246"
        ],
        [
         "mu_M[32]",
         "-1.31544",
         "0.00300739",
         "0.213416",
         "0.217646",
         "-1.64779",
         "-0.973212",
         "5109.85",
         "2911.53",
         "1.00339"
        ],
        [
         "mu_M[33]",
         "0.200366",
         "0.00133677",
         "0.0946634",
         "0.0934275",
         "0.0542286",
         "0.350755",
         "5096.33",
         "3094.69",
         "1.0022"
        ],
        [
         "mu_M[34]",
         "0.42493",
         "0.00152066",
         "0.108554",
         "0.107751",
         "0.252518",
         "0.596914",
         "5249.78",
         "3074.96",
         "1.00207"
        ],
        [
         "mu_M[35]",
         "-0.136478",
         "0.00132353",
         "0.0933559",
         "0.0909944",
         "-0.283648",
         "0.0142612",
         "5086.66",
         "2564.19",
         "1.00555"
        ],
        [
         "mu_M[36]",
         "0.930197",
         "0.00220704",
         "0.160976",
         "0.160325",
         "0.675037",
         "1.18813",
         "5407.18",
         "2639.37",
         "1.00188"
        ],
        [
         "mu_M[37]",
         "0.031944",
         "0.0012813",
         "0.0907742",
         "0.0892674",
         "-0.108348",
         "0.1768",
         "5095.42",
         "2993.36",
         "1.00349"
        ],
        [
         "mu_M[38]",
         "-0.585605",
         "0.0017675",
         "0.125829",
         "0.126085",
         "-0.781673",
         "-0.382141",
         "5160.47",
         "2890.02",
         "1.004"
        ],
        [
         "mu_M[39]",
         "-1.20315",
         "0.0028015",
         "0.198778",
         "0.202442",
         "-1.51236",
         "-0.885197",
         "5110.33",
         "2955.93",
         "1.00337"
        ],
        [
         "mu_M[40]",
         "-0.192619",
         "0.00135518",
         "0.0956017",
         "0.093071",
         "-0.343602",
         "-0.0390915",
         "5090.21",
         "2725.14",
         "1.0046"
        ],
        [
         "mu_M[41]",
         "0.256507",
         "0.0013743",
         "0.0973008",
         "0.0964172",
         "0.10519",
         "0.409703",
         "5119.11",
         "3046.84",
         "1.00231"
        ],
        [
         "mu_M[42]",
         "0.48107",
         "0.00157873",
         "0.113235",
         "0.112104",
         "0.302556",
         "0.660341",
         "5316.17",
         "3028.51",
         "1.00195"
        ]
       ],
       "shape": {
        "columns": 9,
        "rows": 108
       }
      },
      "text/html": [
       "<div>\n",
       "<style scoped>\n",
       "    .dataframe tbody tr th:only-of-type {\n",
       "        vertical-align: middle;\n",
       "    }\n",
       "\n",
       "    .dataframe tbody tr th {\n",
       "        vertical-align: top;\n",
       "    }\n",
       "\n",
       "    .dataframe thead th {\n",
       "        text-align: right;\n",
       "    }\n",
       "</style>\n",
       "<table border=\"1\" class=\"dataframe\">\n",
       "  <thead>\n",
       "    <tr style=\"text-align: right;\">\n",
       "      <th></th>\n",
       "      <th>Mean</th>\n",
       "      <th>MCSE</th>\n",
       "      <th>StdDev</th>\n",
       "      <th>MAD</th>\n",
       "      <th>5.5%</th>\n",
       "      <th>94.5%</th>\n",
       "      <th>ESS_bulk</th>\n",
       "      <th>ESS_tail</th>\n",
       "      <th>R_hat</th>\n",
       "    </tr>\n",
       "  </thead>\n",
       "  <tbody>\n",
       "    <tr>\n",
       "      <th>lp__</th>\n",
       "      <td>-27.887000</td>\n",
       "      <td>0.049254</td>\n",
       "      <td>1.960530</td>\n",
       "      <td>1.775340</td>\n",
       "      <td>-31.462400</td>\n",
       "      <td>-25.444600</td>\n",
       "      <td>1708.53</td>\n",
       "      <td>2084.20</td>\n",
       "      <td>1.001090</td>\n",
       "    </tr>\n",
       "    <tr>\n",
       "      <th>a</th>\n",
       "      <td>0.000776</td>\n",
       "      <td>0.001288</td>\n",
       "      <td>0.099667</td>\n",
       "      <td>0.097259</td>\n",
       "      <td>-0.161443</td>\n",
       "      <td>0.159908</td>\n",
       "      <td>6046.80</td>\n",
       "      <td>2649.27</td>\n",
       "      <td>0.999834</td>\n",
       "    </tr>\n",
       "    <tr>\n",
       "      <th>bM</th>\n",
       "      <td>-0.058046</td>\n",
       "      <td>0.002694</td>\n",
       "      <td>0.157668</td>\n",
       "      <td>0.154681</td>\n",
       "      <td>-0.312126</td>\n",
       "      <td>0.189295</td>\n",
       "      <td>3490.08</td>\n",
       "      <td>2810.22</td>\n",
       "      <td>1.000650</td>\n",
       "    </tr>\n",
       "    <tr>\n",
       "      <th>bA</th>\n",
       "      <td>-0.604529</td>\n",
       "      <td>0.002757</td>\n",
       "      <td>0.160781</td>\n",
       "      <td>0.158365</td>\n",
       "      <td>-0.867456</td>\n",
       "      <td>-0.343911</td>\n",
       "      <td>3446.94</td>\n",
       "      <td>3009.61</td>\n",
       "      <td>1.001340</td>\n",
       "    </tr>\n",
       "    <tr>\n",
       "      <th>sigma</th>\n",
       "      <td>0.836453</td>\n",
       "      <td>0.001259</td>\n",
       "      <td>0.087902</td>\n",
       "      <td>0.086275</td>\n",
       "      <td>0.707221</td>\n",
       "      <td>0.987352</td>\n",
       "      <td>5195.01</td>\n",
       "      <td>2881.47</td>\n",
       "      <td>1.000880</td>\n",
       "    </tr>\n",
       "    <tr>\n",
       "      <th>...</th>\n",
       "      <td>...</td>\n",
       "      <td>...</td>\n",
       "      <td>...</td>\n",
       "      <td>...</td>\n",
       "      <td>...</td>\n",
       "      <td>...</td>\n",
       "      <td>...</td>\n",
       "      <td>...</td>\n",
       "      <td>...</td>\n",
       "    </tr>\n",
       "    <tr>\n",
       "      <th>mu[46]</th>\n",
       "      <td>-0.175081</td>\n",
       "      <td>0.001661</td>\n",
       "      <td>0.115163</td>\n",
       "      <td>0.114572</td>\n",
       "      <td>-0.363443</td>\n",
       "      <td>0.007722</td>\n",
       "      <td>4898.73</td>\n",
       "      <td>2790.25</td>\n",
       "      <td>1.000440</td>\n",
       "    </tr>\n",
       "    <tr>\n",
       "      <th>mu[47]</th>\n",
       "      <td>0.056541</td>\n",
       "      <td>0.001446</td>\n",
       "      <td>0.107605</td>\n",
       "      <td>0.106710</td>\n",
       "      <td>-0.117042</td>\n",
       "      <td>0.229302</td>\n",
       "      <td>5573.71</td>\n",
       "      <td>2945.99</td>\n",
       "      <td>0.999933</td>\n",
       "    </tr>\n",
       "    <tr>\n",
       "      <th>mu[48]</th>\n",
       "      <td>0.486122</td>\n",
       "      <td>0.001863</td>\n",
       "      <td>0.139857</td>\n",
       "      <td>0.138142</td>\n",
       "      <td>0.265113</td>\n",
       "      <td>0.711012</td>\n",
       "      <td>5670.73</td>\n",
       "      <td>3265.24</td>\n",
       "      <td>1.001940</td>\n",
       "    </tr>\n",
       "    <tr>\n",
       "      <th>mu[49]</th>\n",
       "      <td>-0.075030</td>\n",
       "      <td>0.002100</td>\n",
       "      <td>0.144548</td>\n",
       "      <td>0.139461</td>\n",
       "      <td>-0.306950</td>\n",
       "      <td>0.155971</td>\n",
       "      <td>4815.31</td>\n",
       "      <td>3481.04</td>\n",
       "      <td>1.000940</td>\n",
       "    </tr>\n",
       "    <tr>\n",
       "      <th>mu[50]</th>\n",
       "      <td>0.747720</td>\n",
       "      <td>0.004892</td>\n",
       "      <td>0.341311</td>\n",
       "      <td>0.331849</td>\n",
       "      <td>0.197945</td>\n",
       "      <td>1.302310</td>\n",
       "      <td>4887.28</td>\n",
       "      <td>3498.67</td>\n",
       "      <td>1.000010</td>\n",
       "    </tr>\n",
       "  </tbody>\n",
       "</table>\n",
       "<p>108 rows × 9 columns</p>\n",
       "</div>"
      ],
      "text/plain": [
       "             Mean      MCSE    StdDev       MAD       5.5%      94.5%  \\\n",
       "lp__   -27.887000  0.049254  1.960530  1.775340 -31.462400 -25.444600   \n",
       "a        0.000776  0.001288  0.099667  0.097259  -0.161443   0.159908   \n",
       "bM      -0.058046  0.002694  0.157668  0.154681  -0.312126   0.189295   \n",
       "bA      -0.604529  0.002757  0.160781  0.158365  -0.867456  -0.343911   \n",
       "sigma    0.836453  0.001259  0.087902  0.086275   0.707221   0.987352   \n",
       "...           ...       ...       ...       ...        ...        ...   \n",
       "mu[46]  -0.175081  0.001661  0.115163  0.114572  -0.363443   0.007722   \n",
       "mu[47]   0.056541  0.001446  0.107605  0.106710  -0.117042   0.229302   \n",
       "mu[48]   0.486122  0.001863  0.139857  0.138142   0.265113   0.711012   \n",
       "mu[49]  -0.075030  0.002100  0.144548  0.139461  -0.306950   0.155971   \n",
       "mu[50]   0.747720  0.004892  0.341311  0.331849   0.197945   1.302310   \n",
       "\n",
       "        ESS_bulk  ESS_tail     R_hat  \n",
       "lp__     1708.53   2084.20  1.001090  \n",
       "a        6046.80   2649.27  0.999834  \n",
       "bM       3490.08   2810.22  1.000650  \n",
       "bA       3446.94   3009.61  1.001340  \n",
       "sigma    5195.01   2881.47  1.000880  \n",
       "...          ...       ...       ...  \n",
       "mu[46]   4898.73   2790.25  1.000440  \n",
       "mu[47]   5573.71   2945.99  0.999933  \n",
       "mu[48]   5670.73   3265.24  1.001940  \n",
       "mu[49]   4815.31   3481.04  1.000940  \n",
       "mu[50]   4887.28   3498.67  1.000010  \n",
       "\n",
       "[108 rows x 9 columns]"
      ]
     },
     "execution_count": 37,
     "metadata": {},
     "output_type": "execute_result"
    }
   ],
   "source": [
    "fit.summary(percentiles=(5.5, 94.5))"
   ]
  },
  {
   "cell_type": "code",
   "execution_count": null,
   "metadata": {},
   "outputs": [],
   "source": [
    "cmdstanpy_data = az.from_cmdstanpy(\n",
    "    posterior=fit,\n",
    "    observed_data={\"D\": d.D},\n",
    ")\n",
    "cmdstanpy_data"
   ]
  },
  {
   "cell_type": "code",
   "execution_count": 52,
   "metadata": {},
   "outputs": [
    {
     "name": "stderr",
     "output_type": "stream",
     "text": [
      "21:25:43 - cmdstanpy - INFO - Chain [1] start processing\n",
      "21:25:43 - cmdstanpy - INFO - Chain [2] start processing\n",
      "21:25:43 - cmdstanpy - INFO - Chain [3] start processing\n",
      "21:25:43 - cmdstanpy - INFO - Chain [4] start processing\n",
      "21:25:43 - cmdstanpy - INFO - Chain [1] done processing\n",
      "21:25:43 - cmdstanpy - INFO - Chain [3] done processing\n",
      "21:25:43 - cmdstanpy - INFO - Chain [2] done processing\n",
      "21:25:43 - cmdstanpy - INFO - Chain [4] done processing\n"
     ]
    }
   ],
   "source": [
    "new_data = {'A': np.linspace(-2,2,30), 'N': 30, 'N_M': 30, 'M': np.zeros(30), 'D':np.zeros(30)}\n",
    "new_quant = stan_model.generate_quantities(data=new_data, previous_fit=fit)"
   ]
  }
 ],
 "metadata": {
  "kernelspec": {
   "display_name": "base",
   "language": "python",
   "name": "python3"
  },
  "language_info": {
   "codemirror_mode": {
    "name": "ipython",
    "version": 3
   },
   "file_extension": ".py",
   "mimetype": "text/x-python",
   "name": "python",
   "nbconvert_exporter": "python",
   "pygments_lexer": "ipython3",
   "version": "3.12.8"
  }
 },
 "nbformat": 4,
 "nbformat_minor": 2
}
