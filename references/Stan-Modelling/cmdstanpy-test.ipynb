{
 "cells": [
  {
   "cell_type": "code",
   "execution_count": 1,
   "metadata": {},
   "outputs": [],
   "source": [
    "import numpy as np\n",
    "import pandas as pd\n",
    "import arviz as az\n",
    "from cmdstanpy import CmdStanModel"
   ]
  },
  {
   "cell_type": "code",
   "execution_count": 4,
   "metadata": {},
   "outputs": [],
   "source": [
    "def center(vals: np.ndarray) -> np.ndarray:\n",
    "    return vals - np.nanmean(vals)\n",
    "\n",
    "\n",
    "def standardize(vals: np.ndarray) -> np.ndarray:\n",
    "    centered_vals = center(vals)\n",
    "    return centered_vals / np.nanstd(centered_vals)"
   ]
  },
  {
   "cell_type": "code",
   "execution_count": 5,
   "metadata": {},
   "outputs": [],
   "source": [
    "d = pd.read_csv('../../data/WaffleDivorce.csv', sep=';', header=0)\n",
    "d['A'] = standardize(d['MedianAgeMarriage'])\n",
    "d['D'] = standardize(d['Divorce'])\n",
    "d['M'] = standardize(d['Marriage'])"
   ]
  },
  {
   "cell_type": "code",
   "execution_count": 66,
   "metadata": {},
   "outputs": [],
   "source": [
    "divorce_code = '''\n",
    "data{\n",
    "    int<lower=1> N;\n",
    "    int<lower=1> N_M;\n",
    "    vector[N] D;\n",
    "    vector[N_M] M;\n",
    "    vector[N] A;\n",
    "}\n",
    "\n",
    "parameters{\n",
    "    real a;\n",
    "    real bM;\n",
    "    real bA;\n",
    "    real<lower=0> sigma;\n",
    "    real aM;\n",
    "    real bAM;\n",
    "    real<lower=0> sigma_M;\n",
    "}\n",
    "\n",
    "model{\n",
    "    vector[N_M] mu_M;\n",
    "    sigma_M ~ exponential(1);\n",
    "    bAM ~ normal(0, 0.5);\n",
    "    aM ~ normal(0, 0.2);\n",
    "    for ( i in 1:N_M ) {\n",
    "        mu_M[i] = aM + bAM * A[i];\n",
    "    }\n",
    "    M ~ normal(mu_M, sigma_M);\n",
    "    \n",
    "    vector[N] mu;\n",
    "    sigma ~ exponential(1);\n",
    "    bA ~ normal(0, 0.5);\n",
    "    bM ~ normal(0, 0.5);\n",
    "    a ~ normal(0, 0.2);\n",
    "    for ( i in 1:N ) {\n",
    "        mu[i] = a + bM * M[i] + bA * A[i];\n",
    "    }\n",
    "    D ~ normal(mu, sigma);\n",
    "}\n",
    "\n",
    "generated quantities{\n",
    "    vector[N_M] mu_M;\n",
    "    vector[N] mu;\n",
    "    for ( i in 1:N_M ) {\n",
    "        mu_M[i] = aM + bAM * A[i];\n",
    "    }\n",
    "    for (i in 1:N) {\n",
    "        mu[i] = a + bM * M[i] + bA * A[i];\n",
    "    }\n",
    "}\n",
    "\n",
    "'''"
   ]
  },
  {
   "cell_type": "code",
   "execution_count": 67,
   "metadata": {},
   "outputs": [
    {
     "name": "stderr",
     "output_type": "stream",
     "text": [
      "09:36:09 - cmdstanpy - INFO - compiling stan file /Users/rehabnaeem/Documents/Coding-Projects/bayesian-analysis/references/Stan-Modelling/stan_models/waffledivorce.stan to exe file /Users/rehabnaeem/Documents/Coding-Projects/bayesian-analysis/references/Stan-Modelling/stan_models/waffledivorce\n",
      "09:36:19 - cmdstanpy - INFO - compiled model executable: /Users/rehabnaeem/Documents/Coding-Projects/bayesian-analysis/references/Stan-Modelling/stan_models/waffledivorce\n"
     ]
    }
   ],
   "source": [
    "stan_file = './stan_models/waffledivorce.stan'\n",
    "with open(stan_file, 'w') as f:\n",
    "    print(divorce_code, file=f)\n",
    "\n",
    "stan_model = CmdStanModel(stan_file=stan_file)"
   ]
  },
  {
   "cell_type": "code",
   "execution_count": 68,
   "metadata": {},
   "outputs": [],
   "source": [
    "data = d[['A', 'M', 'D']].to_dict(orient='list')\n",
    "data['N'] = len(data['A'])\n",
    "data['N_M'] = len(data['M'])"
   ]
  },
  {
   "cell_type": "code",
   "execution_count": 69,
   "metadata": {},
   "outputs": [
    {
     "name": "stderr",
     "output_type": "stream",
     "text": [
      "09:36:24 - cmdstanpy - INFO - CmdStan start processing\n"
     ]
    },
    {
     "data": {
      "application/vnd.jupyter.widget-view+json": {
       "model_id": "a4a896dcf0c740278c6a833c5b5fd319",
       "version_major": 2,
       "version_minor": 0
      },
      "text/plain": [
       "chain 1 |          | 00:00 Status"
      ]
     },
     "metadata": {},
     "output_type": "display_data"
    },
    {
     "data": {
      "application/vnd.jupyter.widget-view+json": {
       "model_id": "9bfdc57b16f042f8a9b871000841b820",
       "version_major": 2,
       "version_minor": 0
      },
      "text/plain": [
       "chain 2 |          | 00:00 Status"
      ]
     },
     "metadata": {},
     "output_type": "display_data"
    },
    {
     "data": {
      "application/vnd.jupyter.widget-view+json": {
       "model_id": "12540f08f677479ba7f4bdfafcb8e89e",
       "version_major": 2,
       "version_minor": 0
      },
      "text/plain": [
       "chain 3 |          | 00:00 Status"
      ]
     },
     "metadata": {},
     "output_type": "display_data"
    },
    {
     "data": {
      "application/vnd.jupyter.widget-view+json": {
       "model_id": "1f39d83791964ff58a22ef8bb2730522",
       "version_major": 2,
       "version_minor": 0
      },
      "text/plain": [
       "chain 4 |          | 00:00 Status"
      ]
     },
     "metadata": {},
     "output_type": "display_data"
    },
    {
     "name": "stdout",
     "output_type": "stream",
     "text": [
      "                                                                                                                                                                                                                                                                                                                                "
     ]
    },
    {
     "name": "stderr",
     "output_type": "stream",
     "text": [
      "09:36:24 - cmdstanpy - INFO - CmdStan done processing.\n",
      "09:36:24 - cmdstanpy - WARNING - Non-fatal error during sampling:\n",
      "Exception: normal_lpdf: Scale parameter is 0, but must be positive! (in 'waffledivorce.stan', line 28, column 4 to column 30)\n",
      "Exception: normal_lpdf: Scale parameter is 0, but must be positive! (in 'waffledivorce.stan', line 28, column 4 to column 30)\n",
      "Exception: normal_lpdf: Scale parameter is 0, but must be positive! (in 'waffledivorce.stan', line 28, column 4 to column 30)\n",
      "Consider re-running with show_console=True if the above output is unclear!\n"
     ]
    },
    {
     "name": "stdout",
     "output_type": "stream",
     "text": [
      "\n"
     ]
    }
   ],
   "source": [
    "fit = stan_model.sample(data=data)"
   ]
  },
  {
   "cell_type": "code",
   "execution_count": 70,
   "metadata": {},
   "outputs": [
    {
     "data": {
      "application/vnd.microsoft.datawrangler.viewer.v0+json": {
       "columns": [
        {
         "name": "index",
         "rawType": "object",
         "type": "string"
        },
        {
         "name": "Mean",
         "rawType": "float64",
         "type": "float"
        },
        {
         "name": "MCSE",
         "rawType": "float64",
         "type": "float"
        },
        {
         "name": "StdDev",
         "rawType": "float64",
         "type": "float"
        },
        {
         "name": "MAD",
         "rawType": "float64",
         "type": "float"
        },
        {
         "name": "5.5%",
         "rawType": "float64",
         "type": "float"
        },
        {
         "name": "94.5%",
         "rawType": "float64",
         "type": "float"
        },
        {
         "name": "ESS_bulk",
         "rawType": "float64",
         "type": "float"
        },
        {
         "name": "ESS_tail",
         "rawType": "float64",
         "type": "float"
        },
        {
         "name": "R_hat",
         "rawType": "float64",
         "type": "float"
        }
       ],
       "conversionMethod": "pd.DataFrame",
       "ref": "1c88d226-a64b-4700-bd1d-92f51f02d6fa",
       "rows": [
        [
         "lp__",
         "-27.8559",
         "0.0437604",
         "1.87844",
         "1.70736",
         "-31.3581",
         "-25.4826",
         "1836.33",
         "2653.55",
         "1.00054"
        ],
        [
         "a",
         "0.00226931",
         "0.00125694",
         "0.0996477",
         "0.0999404",
         "-0.15432",
         "0.160894",
         "6372.16",
         "3169.4",
         "0.999931"
        ],
        [
         "bM",
         "-0.0599238",
         "0.00276065",
         "0.156174",
         "0.150423",
         "-0.307442",
         "0.189333",
         "3176.31",
         "3272.38",
         "1.00026"
        ],
        [
         "bA",
         "-0.608451",
         "0.00281292",
         "0.158746",
         "0.155661",
         "-0.863352",
         "-0.36136",
         "3227.76",
         "2772.65",
         "0.999858"
        ],
        [
         "sigma",
         "0.834684",
         "0.00127054",
         "0.0863496",
         "0.0839278",
         "0.708605",
         "0.980891",
         "4848.21",
         "2876.9",
         "0.999598"
        ],
        [
         "aM",
         "0.000712767",
         "0.00120815",
         "0.0916318",
         "0.0899424",
         "-0.145965",
         "0.148086",
         "5828.19",
         "2971.37",
         "1.00204"
        ],
        [
         "bAM",
         "-0.692706",
         "0.0014344",
         "0.0994888",
         "0.100195",
         "-0.851516",
         "-0.532998",
         "4884.92",
         "2741.12",
         "1.00058"
        ],
        [
         "sigma_M",
         "0.719495",
         "0.00108205",
         "0.0734286",
         "0.0729684",
         "0.610672",
         "0.843985",
         "4786.82",
         "3247.72",
         "1.00128"
        ],
        [
         "mu_M[1]",
         "0.424957",
         "0.00143813",
         "0.108859",
         "0.110363",
         "0.252169",
         "0.602068",
         "5770.78",
         "3117.51",
         "1.00297"
        ],
        [
         "mu_M[2]",
         "0.481223",
         "0.00150293",
         "0.113429",
         "0.115745",
         "0.301327",
         "0.666036",
         "5744.43",
         "3032.82",
         "1.00224"
        ],
        [
         "mu_M[3]",
         "0.143628",
         "0.00122067",
         "0.0934375",
         "0.092346",
         "-0.00692909",
         "0.293583",
         "5893.77",
         "2820.57",
         "1.00431"
        ],
        [
         "mu_M[4]",
         "0.987615",
         "0.0022561",
         "0.16699",
         "0.166002",
         "0.720026",
         "1.25849",
         "5522.74",
         "3078.16",
         "1.00064"
        ],
        [
         "mu_M[5]",
         "-0.41903",
         "0.00152828",
         "0.110845",
         "0.109148",
         "-0.594157",
         "-0.241661",
         "5321.58",
         "2923.78",
         "1.00162"
        ],
        [
         "mu_M[6]",
         "0.199894",
         "0.0012465",
         "0.0953588",
         "0.0943831",
         "0.0439434",
         "0.354635",
         "5881.83",
         "2843.41",
         "1.00473"
        ],
        [
         "mu_M[7]",
         "-0.869156",
         "0.00220806",
         "0.156637",
         "0.155983",
         "-1.11826",
         "-0.616775",
         "5078.97",
         "3019.63",
         "1.00124"
        ],
        [
         "mu_M[8]",
         "-0.306498",
         "0.00139981",
         "0.102618",
         "0.101066",
         "-0.470023",
         "-0.143135",
         "5436.94",
         "2982.04",
         "1.00103"
        ],
        [
         "mu_M[9]",
         "-2.05074",
         "0.0044896",
         "0.310577",
         "0.313125",
         "-2.54283",
         "-1.5496",
         "4841.24",
         "3065.74",
         "1.00156"
        ],
        [
         "mu_M[10]",
         "-0.193967",
         "0.00129878",
         "0.0964203",
         "0.0940309",
         "-0.345765",
         "-0.0392661",
         "5582.44",
         "2903.52",
         "1.00029"
        ],
        [
         "mu_M[11]",
         "0.0873621",
         "0.00120753",
         "0.0921869",
         "0.0906994",
         "-0.0609926",
         "0.236001",
         "5887.64",
         "2896.97",
         "1.00409"
        ],
        [
         "mu_M[12]",
         "-0.475296",
         "0.0016008",
         "0.115588",
         "0.115363",
         "-0.658322",
         "-0.289885",
         "5268.59",
         "2822.97",
         "1.00148"
        ],
        [
         "mu_M[13]",
         "1.60654",
         "0.00347254",
         "0.24619",
         "0.244273",
         "1.20638",
         "1.99547",
         "5214.45",
         "3018.32",
         "1.00085"
        ],
        [
         "mu_M[14]",
         "-0.531562",
         "0.0016779",
         "0.120686",
         "0.120939",
         "-0.721897",
         "-0.338279",
         "5225.35",
         "2819.68",
         "1.00187"
        ],
        [
         "mu_M[15]",
         "0.199894",
         "0.0012465",
         "0.0953588",
         "0.0943831",
         "0.0439434",
         "0.354635",
         "5881.83",
         "2843.41",
         "1.00473"
        ],
        [
         "mu_M[16]",
         "0.368691",
         "0.00137928",
         "0.104715",
         "0.105947",
         "0.200591",
         "0.54015",
         "5804.98",
         "3112.35",
         "1.00324"
        ],
        [
         "mu_M[17]",
         "0.593754",
         "0.00164754",
         "0.123651",
         "0.125091",
         "0.397276",
         "0.796988",
         "5699.43",
         "3211.84",
         "1.00154"
        ],
        [
         "mu_M[18]",
         "0.706286",
         "0.00180808",
         "0.135038",
         "0.134721",
         "0.49063",
         "0.926934",
         "5632.69",
         "3081.33",
         "1.00093"
        ],
        [
         "mu_M[19]",
         "0.0873621",
         "0.00120753",
         "0.0921869",
         "0.0906994",
         "-0.0609926",
         "0.236001",
         "5887.64",
         "2896.97",
         "1.00409"
        ],
        [
         "mu_M[20]",
         "-0.193967",
         "0.00129878",
         "0.0964203",
         "0.0940309",
         "-0.345765",
         "-0.0392661",
         "5582.44",
         "2903.52",
         "1.00029"
        ],
        [
         "mu_M[21]",
         "-0.700359",
         "0.00193106",
         "0.137704",
         "0.139633",
         "-0.920889",
         "-0.47934",
         "5125.57",
         "2802.58",
         "1.00173"
        ],
        [
         "mu_M[22]",
         "-1.37555",
         "0.0031451",
         "0.219787",
         "0.223346",
         "-1.72421",
         "-1.02271",
         "4969.97",
         "3087.51",
         "1.0013"
        ],
        [
         "mu_M[23]",
         "-0.193967",
         "0.00129878",
         "0.0964203",
         "0.0940309",
         "-0.345765",
         "-0.0392661",
         "5582.44",
         "2903.52",
         "1.00029"
        ],
        [
         "mu_M[24]",
         "-0.137701",
         "0.00126068",
         "0.0942124",
         "0.0921026",
         "-0.285896",
         "0.0131037",
         "5656.13",
         "2968.17",
         "1.00023"
        ],
        [
         "mu_M[25]",
         "0.143628",
         "0.00122067",
         "0.0934375",
         "0.092346",
         "-0.00692909",
         "0.293583",
         "5893.77",
         "2820.57",
         "1.00431"
        ],
        [
         "mu_M[26]",
         "0.256159",
         "0.00128265",
         "0.0979114",
         "0.0979902",
         "0.0981689",
         "0.416144",
         "5868.44",
         "2919.68",
         "1.00442"
        ],
        [
         "mu_M[27]",
         "0.199894",
         "0.0012465",
         "0.0953588",
         "0.0943831",
         "0.0439434",
         "0.354635",
         "5881.83",
         "2843.41",
         "1.00473"
        ],
        [
         "mu_M[28]",
         "0.368691",
         "0.00137928",
         "0.104715",
         "0.105947",
         "0.200591",
         "0.54015",
         "5804.98",
         "3112.35",
         "1.00324"
        ],
        [
         "mu_M[29]",
         "-0.41903",
         "0.00152828",
         "0.110845",
         "0.109148",
         "-0.594157",
         "-0.241661",
         "5321.58",
         "2923.78",
         "1.00162"
        ],
        [
         "mu_M[30]",
         "-0.925422",
         "0.00230423",
         "0.16326",
         "0.162251",
         "-1.18456",
         "-0.661905",
         "5075.4",
         "2917.94",
         "1.00137"
        ],
        [
         "mu_M[31]",
         "0.143628",
         "0.00122067",
         "0.0934375",
         "0.092346",
         "-0.00692909",
         "0.293583",
         "5893.77",
         "2820.57",
         "1.00431"
        ],
        [
         "mu_M[32]",
         "-1.31928",
         "0.00303462",
         "0.212468",
         "0.21474",
         "-1.65582",
         "-0.978966",
         "4986.04",
         "3074.14",
         "1.00122"
        ],
        [
         "mu_M[33]",
         "0.199894",
         "0.0012465",
         "0.0953588",
         "0.0943831",
         "0.0439434",
         "0.354635",
         "5881.83",
         "2843.41",
         "1.00473"
        ],
        [
         "mu_M[34]",
         "0.424957",
         "0.00143813",
         "0.108859",
         "0.110363",
         "0.252169",
         "0.602068",
         "5770.78",
         "3117.51",
         "1.00297"
        ],
        [
         "mu_M[35]",
         "-0.137701",
         "0.00126068",
         "0.0942124",
         "0.0921026",
         "-0.285896",
         "0.0131037",
         "5656.13",
         "2968.17",
         "1.00023"
        ],
        [
         "mu_M[36]",
         "0.931349",
         "0.00216246",
         "0.160294",
         "0.159476",
         "0.673821",
         "1.19073",
         "5532.36",
         "3078.94",
         "1.00066"
        ],
        [
         "mu_M[37]",
         "0.0310963",
         "0.00120504",
         "0.0916346",
         "0.0895979",
         "-0.116353",
         "0.177758",
         "5860.02",
         "3044.87",
         "1.00255"
        ],
        [
         "mu_M[38]",
         "-0.587827",
         "0.00175898",
         "0.126096",
         "0.12806",
         "-0.78632",
         "-0.385259",
         "5180.43",
         "2711.49",
         "1.00178"
        ],
        [
         "mu_M[39]",
         "-1.20675",
         "0.00281549",
         "0.198008",
         "0.19958",
         "-1.52156",
         "-0.888938",
         "5032.31",
         "3046.65",
         "1.00131"
        ],
        [
         "mu_M[40]",
         "-0.193967",
         "0.00129878",
         "0.0964203",
         "0.0940309",
         "-0.345765",
         "-0.0392661",
         "5582.44",
         "2903.52",
         "1.00029"
        ],
        [
         "mu_M[41]",
         "0.256159",
         "0.00128265",
         "0.0979114",
         "0.0979902",
         "0.0981689",
         "0.416144",
         "5868.44",
         "2919.68",
         "1.00442"
        ],
        [
         "mu_M[42]",
         "0.481223",
         "0.00150293",
         "0.113429",
         "0.115745",
         "0.301327",
         "0.666036",
         "5744.43",
         "3032.82",
         "1.00224"
        ]
       ],
       "shape": {
        "columns": 9,
        "rows": 108
       }
      },
      "text/html": [
       "<div>\n",
       "<style scoped>\n",
       "    .dataframe tbody tr th:only-of-type {\n",
       "        vertical-align: middle;\n",
       "    }\n",
       "\n",
       "    .dataframe tbody tr th {\n",
       "        vertical-align: top;\n",
       "    }\n",
       "\n",
       "    .dataframe thead th {\n",
       "        text-align: right;\n",
       "    }\n",
       "</style>\n",
       "<table border=\"1\" class=\"dataframe\">\n",
       "  <thead>\n",
       "    <tr style=\"text-align: right;\">\n",
       "      <th></th>\n",
       "      <th>Mean</th>\n",
       "      <th>MCSE</th>\n",
       "      <th>StdDev</th>\n",
       "      <th>MAD</th>\n",
       "      <th>5.5%</th>\n",
       "      <th>94.5%</th>\n",
       "      <th>ESS_bulk</th>\n",
       "      <th>ESS_tail</th>\n",
       "      <th>R_hat</th>\n",
       "    </tr>\n",
       "  </thead>\n",
       "  <tbody>\n",
       "    <tr>\n",
       "      <th>lp__</th>\n",
       "      <td>-27.855900</td>\n",
       "      <td>0.043760</td>\n",
       "      <td>1.878440</td>\n",
       "      <td>1.707360</td>\n",
       "      <td>-31.358100</td>\n",
       "      <td>-25.482600</td>\n",
       "      <td>1836.33</td>\n",
       "      <td>2653.55</td>\n",
       "      <td>1.000540</td>\n",
       "    </tr>\n",
       "    <tr>\n",
       "      <th>a</th>\n",
       "      <td>0.002269</td>\n",
       "      <td>0.001257</td>\n",
       "      <td>0.099648</td>\n",
       "      <td>0.099940</td>\n",
       "      <td>-0.154320</td>\n",
       "      <td>0.160894</td>\n",
       "      <td>6372.16</td>\n",
       "      <td>3169.40</td>\n",
       "      <td>0.999931</td>\n",
       "    </tr>\n",
       "    <tr>\n",
       "      <th>bM</th>\n",
       "      <td>-0.059924</td>\n",
       "      <td>0.002761</td>\n",
       "      <td>0.156174</td>\n",
       "      <td>0.150423</td>\n",
       "      <td>-0.307442</td>\n",
       "      <td>0.189333</td>\n",
       "      <td>3176.31</td>\n",
       "      <td>3272.38</td>\n",
       "      <td>1.000260</td>\n",
       "    </tr>\n",
       "    <tr>\n",
       "      <th>bA</th>\n",
       "      <td>-0.608451</td>\n",
       "      <td>0.002813</td>\n",
       "      <td>0.158746</td>\n",
       "      <td>0.155661</td>\n",
       "      <td>-0.863352</td>\n",
       "      <td>-0.361360</td>\n",
       "      <td>3227.76</td>\n",
       "      <td>2772.65</td>\n",
       "      <td>0.999858</td>\n",
       "    </tr>\n",
       "    <tr>\n",
       "      <th>sigma</th>\n",
       "      <td>0.834684</td>\n",
       "      <td>0.001271</td>\n",
       "      <td>0.086350</td>\n",
       "      <td>0.083928</td>\n",
       "      <td>0.708605</td>\n",
       "      <td>0.980891</td>\n",
       "      <td>4848.21</td>\n",
       "      <td>2876.90</td>\n",
       "      <td>0.999598</td>\n",
       "    </tr>\n",
       "    <tr>\n",
       "      <th>...</th>\n",
       "      <td>...</td>\n",
       "      <td>...</td>\n",
       "      <td>...</td>\n",
       "      <td>...</td>\n",
       "      <td>...</td>\n",
       "      <td>...</td>\n",
       "      <td>...</td>\n",
       "      <td>...</td>\n",
       "      <td>...</td>\n",
       "    </tr>\n",
       "    <tr>\n",
       "      <th>mu[46]</th>\n",
       "      <td>-0.174883</td>\n",
       "      <td>0.001564</td>\n",
       "      <td>0.112707</td>\n",
       "      <td>0.113186</td>\n",
       "      <td>-0.355079</td>\n",
       "      <td>0.001434</td>\n",
       "      <td>5229.66</td>\n",
       "      <td>3327.54</td>\n",
       "      <td>1.000670</td>\n",
       "    </tr>\n",
       "    <tr>\n",
       "      <th>mu[47]</th>\n",
       "      <td>0.057883</td>\n",
       "      <td>0.001447</td>\n",
       "      <td>0.107040</td>\n",
       "      <td>0.107582</td>\n",
       "      <td>-0.112033</td>\n",
       "      <td>0.225593</td>\n",
       "      <td>5530.99</td>\n",
       "      <td>3292.86</td>\n",
       "      <td>0.999988</td>\n",
       "    </tr>\n",
       "    <tr>\n",
       "      <th>mu[48]</th>\n",
       "      <td>0.489931</td>\n",
       "      <td>0.002031</td>\n",
       "      <td>0.142749</td>\n",
       "      <td>0.143248</td>\n",
       "      <td>0.261040</td>\n",
       "      <td>0.718076</td>\n",
       "      <td>5037.38</td>\n",
       "      <td>3391.31</td>\n",
       "      <td>1.000810</td>\n",
       "    </tr>\n",
       "    <tr>\n",
       "      <th>mu[49]</th>\n",
       "      <td>-0.072865</td>\n",
       "      <td>0.002095</td>\n",
       "      <td>0.145710</td>\n",
       "      <td>0.144793</td>\n",
       "      <td>-0.308280</td>\n",
       "      <td>0.154835</td>\n",
       "      <td>4877.33</td>\n",
       "      <td>3341.85</td>\n",
       "      <td>1.000740</td>\n",
       "    </tr>\n",
       "    <tr>\n",
       "      <th>mu[50]</th>\n",
       "      <td>0.749832</td>\n",
       "      <td>0.005409</td>\n",
       "      <td>0.343494</td>\n",
       "      <td>0.344542</td>\n",
       "      <td>0.209957</td>\n",
       "      <td>1.300600</td>\n",
       "      <td>4177.26</td>\n",
       "      <td>3294.07</td>\n",
       "      <td>1.000300</td>\n",
       "    </tr>\n",
       "  </tbody>\n",
       "</table>\n",
       "<p>108 rows × 9 columns</p>\n",
       "</div>"
      ],
      "text/plain": [
       "             Mean      MCSE    StdDev       MAD       5.5%      94.5%  \\\n",
       "lp__   -27.855900  0.043760  1.878440  1.707360 -31.358100 -25.482600   \n",
       "a        0.002269  0.001257  0.099648  0.099940  -0.154320   0.160894   \n",
       "bM      -0.059924  0.002761  0.156174  0.150423  -0.307442   0.189333   \n",
       "bA      -0.608451  0.002813  0.158746  0.155661  -0.863352  -0.361360   \n",
       "sigma    0.834684  0.001271  0.086350  0.083928   0.708605   0.980891   \n",
       "...           ...       ...       ...       ...        ...        ...   \n",
       "mu[46]  -0.174883  0.001564  0.112707  0.113186  -0.355079   0.001434   \n",
       "mu[47]   0.057883  0.001447  0.107040  0.107582  -0.112033   0.225593   \n",
       "mu[48]   0.489931  0.002031  0.142749  0.143248   0.261040   0.718076   \n",
       "mu[49]  -0.072865  0.002095  0.145710  0.144793  -0.308280   0.154835   \n",
       "mu[50]   0.749832  0.005409  0.343494  0.344542   0.209957   1.300600   \n",
       "\n",
       "        ESS_bulk  ESS_tail     R_hat  \n",
       "lp__     1836.33   2653.55  1.000540  \n",
       "a        6372.16   3169.40  0.999931  \n",
       "bM       3176.31   3272.38  1.000260  \n",
       "bA       3227.76   2772.65  0.999858  \n",
       "sigma    4848.21   2876.90  0.999598  \n",
       "...          ...       ...       ...  \n",
       "mu[46]   5229.66   3327.54  1.000670  \n",
       "mu[47]   5530.99   3292.86  0.999988  \n",
       "mu[48]   5037.38   3391.31  1.000810  \n",
       "mu[49]   4877.33   3341.85  1.000740  \n",
       "mu[50]   4177.26   3294.07  1.000300  \n",
       "\n",
       "[108 rows x 9 columns]"
      ]
     },
     "execution_count": 70,
     "metadata": {},
     "output_type": "execute_result"
    }
   ],
   "source": [
    "fit.summary(percentiles=(5.5, 94.5))"
   ]
  },
  {
   "cell_type": "code",
   "execution_count": 71,
   "metadata": {},
   "outputs": [
    {
     "data": {
      "text/plain": [
       "(1000, 4, 114)"
      ]
     },
     "execution_count": 71,
     "metadata": {},
     "output_type": "execute_result"
    }
   ],
   "source": [
    "fit.draws().shape"
   ]
  },
  {
   "cell_type": "code",
   "execution_count": 73,
   "metadata": {},
   "outputs": [
    {
     "name": "stderr",
     "output_type": "stream",
     "text": [
      "/Users/rehabnaeem/miniforge3/lib/python3.12/site-packages/arviz/plots/hdiplot.py:161: FutureWarning: hdi currently interprets 2d data as (draw, shape) but this will change in a future release to (chain, draw) for coherence with other functions\n",
      "  hdi_data = hdi(y, hdi_prob=hdi_prob, circular=circular, multimodal=False, **hdi_kwargs)\n"
     ]
    },
    {
     "data": {
      "text/plain": [
       "<Axes: >"
      ]
     },
     "execution_count": 73,
     "metadata": {},
     "output_type": "execute_result"
    },
    {
     "data": {
      "image/png": "[encoded data removed]",
      "text/plain": [
       "<Figure size 640x480 with 1 Axes>"
      ]
     },
     "metadata": {},
     "output_type": "display_data"
    }
   ],
   "source": [
    "# Extract mu samples\n",
    "mu_samples = fit.draws_pd(vars=\"mu\")  # Extract all draws of 'mu'\n",
    "\n",
    "# Convert to numpy array for HDI calculation\n",
    "mu_array = mu_samples.to_numpy()  # Shape: (N, num_samples)\n",
    "\n",
    "az.plot_hdi(d.A, mu_array, hdi_prob=0.89)"
   ]
  },
  {
   "cell_type": "code",
   "execution_count": 44,
   "metadata": {},
   "outputs": [
    {
     "data": {
      "text/plain": [
       "<Axes: >"
      ]
     },
     "execution_count": 44,
     "metadata": {},
     "output_type": "execute_result"
    },
    {
     "data": {
      "image/png": "[encoded data removed]",
      "text/plain": [
       "<Figure size 640x480 with 1 Axes>"
      ]
     },
     "metadata": {},
     "output_type": "display_data"
    }
   ],
   "source": [
    "cmdstanpy_data = az.from_cmdstanpy(\n",
    "    posterior=fit,\n",
    "    constant_data={'A': d.A},\n",
    "    observed_data={\"D\": d.D},\n",
    ")\n",
    "az.plot_hdi(d.A , cmdstanpy_data.posterior.mu, hdi_prob=0.89)"
   ]
  },
  {
   "cell_type": "code",
   "execution_count": 52,
   "metadata": {},
   "outputs": [
    {
     "name": "stderr",
     "output_type": "stream",
     "text": [
      "21:25:43 - cmdstanpy - INFO - Chain [1] start processing\n",
      "21:25:43 - cmdstanpy - INFO - Chain [2] start processing\n",
      "21:25:43 - cmdstanpy - INFO - Chain [3] start processing\n",
      "21:25:43 - cmdstanpy - INFO - Chain [4] start processing\n",
      "21:25:43 - cmdstanpy - INFO - Chain [1] done processing\n",
      "21:25:43 - cmdstanpy - INFO - Chain [3] done processing\n",
      "21:25:43 - cmdstanpy - INFO - Chain [2] done processing\n",
      "21:25:43 - cmdstanpy - INFO - Chain [4] done processing\n"
     ]
    }
   ],
   "source": [
    "new_data = {'A': np.linspace(-2,2,30), 'N': 30, 'N_M': 30, 'M': np.zeros(30), 'D':np.zeros(30)}\n",
    "new_quant = stan_model.generate_quantities(data=new_data, previous_fit=fit)"
   ]
  }
 ],
 "metadata": {
  "kernelspec": {
   "display_name": "base",
   "language": "python",
   "name": "python3"
  },
  "language_info": {
   "codemirror_mode": {
    "name": "ipython",
    "version": 3
   },
   "file_extension": ".py",
   "mimetype": "text/x-python",
   "name": "python",
   "nbconvert_exporter": "python",
   "pygments_lexer": "ipython3",
   "version": "3.12.8"
  }
 },
 "nbformat": 4,
 "nbformat_minor": 2
}
