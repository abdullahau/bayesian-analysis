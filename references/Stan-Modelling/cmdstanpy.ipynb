{
 "cells": [
  {
   "cell_type": "markdown",
   "metadata": {},
   "source": [
    "### Imports"
   ]
  },
  {
   "cell_type": "code",
   "execution_count": 1,
   "metadata": {},
   "outputs": [],
   "source": [
    "import numpy as np\n",
    "import pandas as pd\n",
    "import arviz as az\n",
    "from cmdstanpy import CmdStanModel"
   ]
  },
  {
   "cell_type": "markdown",
   "metadata": {},
   "source": [
    "## Regression Models"
   ]
  },
  {
   "cell_type": "markdown",
   "metadata": {},
   "source": [
    "Stan supports regression models from simple linear regressions to multilevel generalized linear models."
   ]
  },
  {
   "cell_type": "markdown",
   "metadata": {},
   "source": [
    "### Linear regression"
   ]
  },
  {
   "cell_type": "markdown",
   "metadata": {},
   "source": [
    "The simplest linear regression model is the following, with a single predictor and a slope and intercept coefficient, and normally distributed noise. This model can be written using standard regression notation as:\n",
    "$$\n",
    "y_n = \\alpha + \\beta x_n + \\epsilon_n\n",
    "\\quad\\text{where}\\quad\n",
    "\\epsilon_n \\sim \\operatorname{normal}(0,\\sigma).\n",
    "$$\n",
    "\n",
    "This is equivalent to the following sampling involving the residual,\n",
    "$$\n",
    "y_n - (\\alpha + \\beta X_n) \\sim \\operatorname{normal}(0,\\sigma),\n",
    "$$\n",
    "and reducing still further, to\n",
    "$$\n",
    "y_n \\sim \\operatorname{normal}(\\alpha + \\beta X_n, \\, \\sigma).\n",
    "$$"
   ]
  },
  {
   "cell_type": "code",
   "execution_count": 6,
   "metadata": {},
   "outputs": [
    {
     "name": "stderr",
     "output_type": "stream",
     "text": [
      "16:32:25 - cmdstanpy - INFO - compiling stan file /Users/rehabnaeem/Documents/Coding-Projects/bayesian-analysis/references/Stan-Modelling/stan_models/linear_code_1.stan to exe file /Users/rehabnaeem/Documents/Coding-Projects/bayesian-analysis/references/Stan-Modelling/stan_models/linear_code_1\n",
      "16:32:35 - cmdstanpy - INFO - compiled model executable: /Users/rehabnaeem/Documents/Coding-Projects/bayesian-analysis/references/Stan-Modelling/stan_models/linear_code_1\n"
     ]
    }
   ],
   "source": [
    "linear_code_1 = '''\n",
    "data {\n",
    "    int<lower=0> N;\n",
    "    vector[N] x;\n",
    "    vector[N] y;\n",
    "}\n",
    "\n",
    "parameters {\n",
    "    real alpha;\n",
    "    real beta;\n",
    "    real<lower=0> sigma;\n",
    "}\n",
    "\n",
    "model {\n",
    "    y ~ normal(alpha + beta * x, sigma);\n",
    "}\n",
    "'''\n",
    "\n",
    "stan_file = './stan_models/linear_code_1.stan'\n",
    "\n",
    "with open(stan_file, 'w') as f:\n",
    "    print(linear_code_1, file=f)\n",
    "    \n",
    "linear_1_model = CmdStanModel(stan_file=stan_file, force_compile=True, cpp_options={'STAN_THREADS':'true'})"
   ]
  },
  {
   "cell_type": "markdown",
   "metadata": {},
   "source": [
    "There are `N` observations and for each observation, $n \\in N$,  we have predictor `x[n]` and outcome `y[n]`.  The intercept and slope parameters are `alpha` and `beta`. The model assumes a normally\n",
    "distributed noise term with scale `sigma`. This model has improper priors for the two regression coefficients."
   ]
  },
  {
   "cell_type": "markdown",
   "metadata": {},
   "source": [
    "#### Matrix notation and vectorization {- #vectorization.section}"
   ]
  },
  {
   "cell_type": "markdown",
   "metadata": {},
   "source": [
    "The distribution statement in the previous model is vectorized, with\n",
    "\n",
    "```stan\n",
    "y ~ normal(alpha + beta * x, sigma);\n",
    "```\n",
    "\n",
    "providing the same model as the unvectorized version,\n",
    "\n",
    "```stan\n",
    "for (n in 1:N) {\n",
    "  y[n] ~ normal(alpha + beta * x[n], sigma);\n",
    "}\n",
    "```\n",
    "\n",
    "In addition to being more concise, the vectorized form is much faster.\n",
    "\n",
    "In general, Stan allows the arguments to distributions such as `normal` to be vectors. If any of the other arguments are vectors or arrays, they have to be the same size. If any of the other arguments is a scalar, it is reused (or broadcasted) for each vector entry.\n",
    "\n",
    "The other reason this works is that Stan's arithmetic operators are overloaded to perform matrix arithmetic on matrices.  In this case, because `x` is of type `vector` and `beta` of type `real`, the expression `beta * x` is of type `vector`. Because Stan supports vectorization, a regression model with more than one predictor can be written directly using matrix notation."
   ]
  },
  {
   "cell_type": "code",
   "execution_count": 3,
   "metadata": {},
   "outputs": [
    {
     "name": "stderr",
     "output_type": "stream",
     "text": [
      "16:28:12 - cmdstanpy - INFO - compiling stan file /Users/rehabnaeem/Documents/Coding-Projects/bayesian-analysis/references/Stan-Modelling/stan_models/linear_code_2.stan to exe file /Users/rehabnaeem/Documents/Coding-Projects/bayesian-analysis/references/Stan-Modelling/stan_models/linear_code_2\n",
      "16:28:21 - cmdstanpy - INFO - compiled model executable: /Users/rehabnaeem/Documents/Coding-Projects/bayesian-analysis/references/Stan-Modelling/stan_models/linear_code_2\n"
     ]
    }
   ],
   "source": [
    "linear_code_2 = '''\n",
    "data {\n",
    "    int<lower=0> N;         // number of data items\n",
    "    int<lower=0> K;         // number of predictors\n",
    "    matrix[N, K] x;         // predictor matrix\n",
    "    vector[N] y;            // outcome vector\n",
    "}\n",
    "\n",
    "parameters {\n",
    "    real alpha;             // intercept\n",
    "    vector[K] beta;         // coefficients for predictors\n",
    "    real<lower=0> sigma;    // error scale\n",
    "}\n",
    "\n",
    "model {\n",
    "    y ~ normal(x * beta + alpha, sigma); // data model\n",
    "}\n",
    "'''\n",
    "\n",
    "stan_file = './stan_models/linear_code_2.stan'\n",
    "\n",
    "with open(stan_file, 'w') as f:\n",
    "    print(linear_code_2, file=f)\n",
    "    \n",
    "linear_2_model = CmdStanModel(stan_file=stan_file, force_compile=True)"
   ]
  },
  {
   "cell_type": "markdown",
   "metadata": {},
   "source": [
    "The constraint `lower=0` in the declaration of `sigma` constrains the value to be greater than or equal to 0.  With no prior in the model block, the effect is an improper prior on non-negative real numbers.  Although a more informative prior may be added, improper priors are acceptable as long as they lead to proper posteriors.\n",
    "\n",
    "In the model above, `x` is an $N \\times K$ matrix of predictors and `beta` a $K$-vector of coefficients, so `x * beta` is an $N$-vector of predictions, one for each of the $N$ data items. These\n",
    "predictions line up with the outcomes in the $N$-vector `y`, so the entire model may be written using matrix arithmetic as shown.  It would be possible to include a column of ones in the data matrix `x` to\n",
    "remove the `alpha` parameter.\n",
    "\n",
    "The distribution statement in the model above is just a more efficient, vector-based approach to coding the model with a loop, as in the following statistically equivalent model.\n",
    "\n",
    "```stan\n",
    "model {\n",
    "  for (n in 1:N) {\n",
    "    y[n] ~ normal(x[n] * beta, sigma);\n",
    "  }\n",
    "}\n",
    "```\n",
    "\n",
    "With Stan's matrix indexing scheme, `x[n]` picks out row `n` of the matrix `x`;  because `beta` is a column vector, the product `x[n] * beta` is a scalar of type `real`."
   ]
  },
  {
   "cell_type": "markdown",
   "metadata": {},
   "source": [
    "##### Intercepts as inputs {-}"
   ]
  },
  {
   "cell_type": "markdown",
   "metadata": {},
   "source": [
    "In the model formulation\n",
    "\n",
    "```stan\n",
    "y ~ normal(x * beta, sigma);\n",
    "```\n",
    "\n",
    "there is no longer an intercept coefficient `alpha`.  Instead, we have assumed that the first column of the input matrix `x` is a column of 1 values.  This way, `beta[1]` plays the role of the intercept.  If the intercept gets a different prior than the slope terms, then it would be clearer to break it out.  It is also slightly more efficient in its explicit form with the intercept variable\n",
    "singled out because there's one fewer multiplications; it should not make that much of a difference to speed, though, so the choice should be based on clarity."
   ]
  }
 ],
 "metadata": {
  "kernelspec": {
   "display_name": "base",
   "language": "python",
   "name": "python3"
  },
  "language_info": {
   "codemirror_mode": {
    "name": "ipython",
    "version": 3
   },
   "file_extension": ".py",
   "mimetype": "text/x-python",
   "name": "python",
   "nbconvert_exporter": "python",
   "pygments_lexer": "ipython3",
   "version": "3.12.8"
  }
 },
 "nbformat": 4,
 "nbformat_minor": 2
}
