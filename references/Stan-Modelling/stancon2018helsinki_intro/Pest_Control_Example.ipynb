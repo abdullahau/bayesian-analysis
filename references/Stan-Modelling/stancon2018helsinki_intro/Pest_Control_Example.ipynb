{
 "cells": [
  {
   "cell_type": "markdown",
   "metadata": {},
   "source": [
    "# StanCon 2018 Helsinki Intro Workshop"
   ]
  },
  {
   "cell_type": "markdown",
   "metadata": {},
   "source": [
    "### Setup"
   ]
  },
  {
   "cell_type": "code",
   "execution_count": null,
   "metadata": {},
   "outputs": [],
   "source": [
    "import os\n",
    "import gc\n",
    "import numpy as np\n",
    "import pandas as pd\n",
    "import arviz as az\n",
    "import matplotlib.pyplot as plt\n",
    "import seaborn as sns\n",
    "import cmdstanpy\n",
    "from cmdstanpy import CmdStanModel\n",
    "\n",
    "from matplotlib import style \n",
    "style.use('../../../PlottingStyle.mplstyle')\n",
    "\n",
    "%config InlineBackend.figure_formats = ['svg']"
   ]
  },
  {
   "cell_type": "code",
   "execution_count": null,
   "metadata": {},
   "outputs": [],
   "source": [
    "def StanModel(stan_file: str, stan_code: str) -> CmdStanModel:\n",
    "    \"\"\"Load or compile a Stan model\"\"\"\n",
    "    stan_src = f\"{stan_file}.stan\"\n",
    "\n",
    "    if not os.path.isfile(stan_file):  \n",
    "        open(stan_src, 'w').write(stan_code)  # Write Stan code if needed\n",
    "        return CmdStanModel(stan_file=stan_src, cpp_options={'STAN_THREADS': 'true', 'parallel_chains': 4})\n",
    "    \n",
    "    return CmdStanModel(stan_file=stan_src, exe_file=stan_file)\n",
    "\n",
    "def bw_nrd0(x):\n",
    "    if len(x) < 2:\n",
    "        raise(Exception(\"need at least 2 data points\"))\n",
    "\n",
    "    hi = np.std(x, ddof=1)\n",
    "    q75, q25 = np.percentile(x, [75 ,25])\n",
    "    iqr = q75 - q25\n",
    "    lo = min(hi, iqr/1.34)\n",
    "    \n",
    "    lo = lo or hi or abs(x[0]) or 1\n",
    "\n",
    "    return 0.9 * lo *len(x)**-0.2"
   ]
  },
  {
   "cell_type": "markdown",
   "metadata": {},
   "source": [
    "## The Problem"
   ]
  },
  {
   "cell_type": "markdown",
   "metadata": {},
   "source": [
    "### Background"
   ]
  },
  {
   "cell_type": "markdown",
   "metadata": {},
   "source": [
    "Imagine that you are a statistician or data scientist working as an independent contractor. One of your clients is a company that owns many residential buildings throughout New York City. The property manager explains that they are concerned about the number of cockroach complaints that they receive from their buildings. Previously the company has offered monthly visits from a pest inspector as a solution to this problem. While this is the default solution of many property managers in NYC, the tenants are rarely home when the inspector visits, and so the manager reasons that this is a relatively expensive solution that is currently not very effective.\n",
    "\n",
    "One alternative to this problem is to deploy long term bait stations. In this alternative, child and pet safe bait stations are installed throughout the apartment building. Cockroaches obtain quick acting poison from these stations and distribute it throughout the colony. The manufacturer of these bait stations provides some indication of the space-to-bait efficacy, but the manager suspects that this guidance was not calculated with NYC roaches in mind. NYC roaches, the manager rationalizes, have more hustle than traditional roaches; and NYC buildings are built differently than other common residential buildings in the US. This is particularly important as the unit cost for each bait station per year is quite high."
   ]
  },
  {
   "cell_type": "markdown",
   "metadata": {},
   "source": [
    "### The Goal"
   ]
  },
  {
   "cell_type": "markdown",
   "metadata": {},
   "source": [
    "The manager wishes to employ your services to help them to find the optimal number of roach bait stations they should place in each of their buildings in order to minimize the number of cockroach complaints while also keeping expenditure on pest control affordable. \n",
    "\n",
    "A subset of the company's buildings have been randomly selected for an experiment: \n",
    "- At the beginning of each month, a pest inspector randomly places a number of bait stations throughout the building, without knowledge of the current cockroach levels in the building\n",
    "- At the end of the month, the manager records the total number of cockroach complaints in that building. \n",
    "- The manager would like to determine the optimal number of traps ($\\textrm{traps}$) that balances the lost revenue ($R$) that complaints ($\\textrm{complaints}$) generate with the all-in cost of maintaining the traps ($\\textrm{TC}$). \n",
    "\n",
    "Fortunately, Bayesian data analysis provides a coherent framework for us to tackle this problem.\n",
    "\n",
    "Formally, we are interested in finding:\n",
    "$$\n",
    "\\arg\\max_{\\textrm{traps} \\in \\mathbb{N}} \\mathbb{E}_{\\text{complaints}}[R(\\textrm{complaints}(\\textrm{traps})) - \\textrm{TC}(\\textrm{traps})]\n",
    "$$\n",
    "\n",
    "The property manager would also, if possible, like to learn how these results generalize to buildings they haven't treated so they can understand the potential costs of pest control at buildings they are acquiring as well as for the rest of their building portfolio.\n",
    "\n",
    "As the property manager has complete control over the number of traps set, the random variable contributing to this expectation is the number of complaints given the number of traps. We will model the number of complaints as a function of the number of traps."
   ]
  },
  {
   "cell_type": "markdown",
   "metadata": {},
   "source": [
    "## The Data"
   ]
  },
  {
   "cell_type": "markdown",
   "metadata": {},
   "source": [
    "The data provided to us is in a file called `pest_data.csv`. Let's load the data and see what the structure is:"
   ]
  },
  {
   "cell_type": "code",
   "execution_count": null,
   "metadata": {},
   "outputs": [],
   "source": [
    "pest_data = pd.read_csv('data/pest_data.csv', sep=',', header=0, parse_dates=['date'])\n",
    "pest_data.head()"
   ]
  },
  {
   "cell_type": "markdown",
   "metadata": {},
   "source": [
    "We have access to the following fields: \n",
    "\n",
    "* `complaints`: Number of complaints per building per month\n",
    "* `building_id`: The unique building identifier\n",
    "* `traps`: The number of traps used per month per building\n",
    "* `date`: The date at which the number of complaints are recorded\n",
    "* `live_in_super`: An indicator for whether the building as a live-in super\n",
    "* `age_of_building`: The age of the building\n",
    "* `total_sq_foot`: The total square footage of the building\n",
    "* `average_tenant_age`: The average age of the tenants per building\n",
    "* `monthly_average_rent`: The average monthly rent per building\n",
    "* `floors`: The number of floors per building\n",
    "\n",
    "First, let's see how many buildings we have data for:"
   ]
  },
  {
   "cell_type": "code",
   "execution_count": null,
   "metadata": {},
   "outputs": [],
   "source": [
    "N_buildings = len(pest_data.building_id.unique())\n",
    "N_buildings"
   ]
  },
  {
   "cell_type": "markdown",
   "metadata": {},
   "source": [
    "And make some plots of the raw data: "
   ]
  },
  {
   "cell_type": "code",
   "execution_count": null,
   "metadata": {},
   "outputs": [],
   "source": [
    "sns.histplot(pest_data.complaints, discrete=True);"
   ]
  },
  {
   "cell_type": "code",
   "execution_count": null,
   "metadata": {},
   "outputs": [],
   "source": [
    "sns.stripplot(data=pest_data, x='traps', y='complaints', hue='live_in_super', jitter=True);"
   ]
  },
  {
   "cell_type": "code",
   "execution_count": null,
   "metadata": {},
   "outputs": [],
   "source": [
    "import matplotlib.dates as mdates\n",
    "\n",
    "g = sns.FacetGrid(data=pest_data, col='building_id', hue='live_in_super', col_wrap=2, height=2, sharex=False)\n",
    "g.map_dataframe(sns.lineplot, 'date', 'traps', linestyle='dashed', color='k', label='Number of Traps')\n",
    "g.map_dataframe(sns.lineplot, x='date', y='complaints', marker='o', label='Number of Complaints')\n",
    "\n",
    "for ax in g.axes.flat:\n",
    "    ax.xaxis.set_major_formatter(mdates.DateFormatter('%b'))  # Show only abbreviated month names (e.g., Jan, Feb)\n",
    "    ax.xaxis.set_major_locator(mdates.MonthLocator(interval=3))  # Set ticks at the start of each month\n",
    "\n",
    "line_labels = [\n",
    "    plt.Line2D([0], [0], color='k', linestyle='dashed', label=\"Number of Traps\"),\n",
    "    plt.Line2D([0], [0], marker='o', color='k', label=\"Number of Complaints\", linestyle='solid')\n",
    "]\n",
    "g.add_legend(handles=line_labels, title='Legend', loc='upper right')   "
   ]
  },
  {
   "cell_type": "markdown",
   "metadata": {},
   "source": [
    "The first question we'll look at is just whether the number of complaints per building per month is associated with the number of bait stations per building per month, ignoring the temporal and across-building variation (we'll come back to those sources of variation later in the document). That requires only two variables, $\\textrm{complaints}$ and $\\textrm{traps}$. How should we model the number of complaints?"
   ]
  },
  {
   "cell_type": "markdown",
   "metadata": {},
   "source": [
    "## Bayesian Workflow"
   ]
  },
  {
   "cell_type": "markdown",
   "metadata": {},
   "source": [
    "- Exploratory data analysis\n",
    "- Prior predictive checking\n",
    "- Model fitting and algorithm diagnostics\n",
    "- Posterior predictive checking\n",
    "- Model comparison (e.g., via cross-validation)"
   ]
  },
  {
   "cell_type": "markdown",
   "metadata": {},
   "source": [
    "## Modeling count data: Poisson distribution"
   ]
  },
  {
   "cell_type": "markdown",
   "metadata": {},
   "source": [
    "We already know some rudimentary information about what we should expect. The number of complaints over a month should be either zero or an integer. The property manager tells us that it is possible but unlikely that number of complaints in a given month is zero. Occasionally there are a very large number of complaints in a single month. A common way of modeling this sort of skewed, single bounded count data is as a Poisson random variable. One concern about modeling the outcome variable as Poisson is that the data may be over-dispersed, but we'll start with the Poisson model and then check whether over-dispersion is a problem by comparing our model's predictions to the data."
   ]
  },
  {
   "cell_type": "markdown",
   "metadata": {},
   "source": [
    "### Model"
   ]
  },
  {
   "cell_type": "markdown",
   "metadata": {},
   "source": [
    "Given that we have chosen a Poisson regression, we define the likelihood to be the Poisson probability mass function over the number bait stations placed in the building, denoted below as `traps`. This model assumes that the mean and variance of the outcome variable `complaints` (number of complaints) is the same. We'll investigate whether this is a good assumption after we fit the model.\n",
    "\n",
    "For building $b = 1,\\dots,10$ at time (month) $t = 1,\\dots,12$, we have\n",
    "\n",
    "$$\n",
    "\\begin{align*}\n",
    "\\textrm{complaints}_{b,t} & \\sim \\textrm{Poisson}(\\lambda_{b,t}) \\\\\n",
    "\\lambda_{b,t} & = \\exp{(\\eta_{b,t})} \\\\\n",
    "\\eta_{b,t} &= \\alpha + \\beta \\, \\textrm{traps}_{b,t}\n",
    "\\end{align*}\n",
    "$$"
   ]
  },
  {
   "cell_type": "markdown",
   "metadata": {},
   "source": [
    "Let's encode this probability model in a Stan program. "
   ]
  },
  {
   "cell_type": "markdown",
   "metadata": {},
   "source": [
    "### Writing our first Stan model"
   ]
  },
  {
   "cell_type": "code",
   "execution_count": null,
   "metadata": {},
   "outputs": [],
   "source": [
    "simple_poisson_regression = '''\n",
    "functions {\n",
    "  /*\n",
    "  * Alternative to poisson_log_rng() that \n",
    "  * avoids potential numerical problems during warmup\n",
    "  */\n",
    "  int poisson_log_safe_rng(real eta) {\n",
    "    real pois_rate = exp(eta);\n",
    "    if (pois_rate >= exp(20.79))\n",
    "      return -9;\n",
    "    return poisson_rng(pois_rate);\n",
    "  }\n",
    "}\n",
    "data {\n",
    "    int<lower=1> N;\n",
    "    array[N] int<lower=0> complaints;\n",
    "    vector<lower=0>[N] traps;\n",
    "}\n",
    "parameters {\n",
    "    real alpha;\n",
    "    real beta;\n",
    "}\n",
    "model {\n",
    "  // weakly informative priors:\n",
    "  // we expect negative slope on traps and a positive intercept,\n",
    "  // but we will allow ourselves to be wrong\n",
    "  beta ~ normal(-0.25, 1);\n",
    "  alpha ~ normal(log(4), 1);\n",
    "  \n",
    "  // poisson_log(eta) is more efficient and stable alternative to poisson(exp(eta))\n",
    "  complaints ~ poisson_log(alpha + beta * traps);\n",
    "} \n",
    "generated quantities {\n",
    "    array[N] int y_rep;\n",
    "\n",
    "    for (n in 1:N) {\n",
    "        y_rep[n] = poisson_log_safe_rng(alpha + beta * traps[n]);\n",
    "    }\n",
    "}\n",
    "'''\n",
    "\n",
    "simple_poisson_regression_model = StanModel('../stan_models/simple_poisson_regression', simple_poisson_regression)"
   ]
  },
  {
   "cell_type": "markdown",
   "metadata": {},
   "source": [
    "### Making sure our code is right"
   ]
  },
  {
   "cell_type": "markdown",
   "metadata": {},
   "source": [
    "However, before we fit the model to real data, we should check that our model works well with simulated data. We'll simulate data according to the model and then check that we can sufficiently recover the parameter values used in the simulation."
   ]
  },
  {
   "cell_type": "code",
   "execution_count": null,
   "metadata": {},
   "outputs": [],
   "source": [
    "simple_poisson_regression_dgp_model = '''\n",
    "data {\n",
    "    int<lower=1> N;\n",
    "    real<lower=0> mean_traps;\n",
    "}\n",
    "model {\n",
    "} \n",
    "generated quantities {\n",
    "    array[N] int traps;\n",
    "    array[N] int complaints;\n",
    "    real alpha = normal_rng(log(4), .1);\n",
    "    real beta = normal_rng(-0.25, .1);\n",
    "\n",
    "    for (n in 1:N)  {\n",
    "        traps[n] = poisson_rng(mean_traps);\n",
    "        complaints[n] = poisson_log_rng(alpha + beta * traps[n]);\n",
    "    }\n",
    "}\n",
    "'''"
   ]
  },
  {
   "cell_type": "markdown",
   "metadata": {},
   "source": [
    "Here we will do the *compilation* and *fitting* in two stages to demonstrate what is happening under the hood. \n",
    "\n",
    "First we will compile the Stan program (`simple_poisson_regression_dgp.stan`) that will generate the fake data."
   ]
  },
  {
   "cell_type": "code",
   "execution_count": null,
   "metadata": {},
   "outputs": [],
   "source": [
    "simple_poisson_regression_dgp = StanModel('../stan_models/simple_poisson_regression_dgp', simple_poisson_regression_dgp_model)"
   ]
  },
  {
   "cell_type": "markdown",
   "metadata": {},
   "source": [
    "Now we can simulate the data by calling the `sample()` method on the CmdStanModel object instantiated above. The method requires that we pass input data in the form of a dictionary. The names must match the names used in the `data` block of the Stan program."
   ]
  },
  {
   "cell_type": "code",
   "execution_count": null,
   "metadata": {},
   "outputs": [],
   "source": [
    "fitted_model_dgp = simple_poisson_regression_dgp.sample(\n",
    "    data={'N': len(pest_data.traps), \n",
    "          'mean_traps': pest_data.traps.mean()},\n",
    "    chains=1,\n",
    "    iter_sampling=1,\n",
    "    show_progress=False\n",
    ")\n",
    "\n",
    "samps_dgp = az.from_cmdstanpy(fitted_model_dgp)\n",
    "samps_dgp"
   ]
  },
  {
   "cell_type": "markdown",
   "metadata": {},
   "source": [
    "### Fit the model to the fake data"
   ]
  },
  {
   "cell_type": "markdown",
   "metadata": {},
   "source": [
    "In order to pass the fake data to our Stan program, we need to arrange the data into a dictionary. The keys must match the names used in the `data` block of the Stan program."
   ]
  },
  {
   "cell_type": "code",
   "execution_count": null,
   "metadata": {},
   "outputs": [],
   "source": [
    "stan_dat_fake = {\n",
    "    'N': len(pest_data.traps),\n",
    "    'traps': samps_dgp.posterior.traps.sel(chain=0, draw=0).to_numpy().astype(np.int16),\n",
    "    'complaints': samps_dgp.posterior.complaints.sel(chain=0, draw=0).to_numpy().astype(np.int16)\n",
    "}"
   ]
  },
  {
   "cell_type": "markdown",
   "metadata": {},
   "source": [
    "Now that we have the simulated data we fit the model to see if we can recover the `alpha` and `beta` parameters used in the simulation."
   ]
  },
  {
   "cell_type": "code",
   "execution_count": null,
   "metadata": {},
   "outputs": [],
   "source": [
    "fit_model_P = simple_poisson_regression_model.sample(data=stan_dat_fake,\n",
    "                                                     show_progress=False)\n",
    "posterior_alpha_beta = az.extract(az.from_cmdstanpy(fit_model_P), 'posterior', var_names=['alpha', 'beta']).to_dataframe()[['alpha', 'beta']]"
   ]
  },
  {
   "cell_type": "markdown",
   "metadata": {},
   "source": [
    "### Assess parameter recovery"
   ]
  },
  {
   "cell_type": "code",
   "execution_count": null,
   "metadata": {},
   "outputs": [],
   "source": [
    "true_alpha = samps_dgp.posterior.alpha.sel(chain=0, draw=0).to_numpy()\n",
    "true_beta = samps_dgp.posterior.beta.sel(chain=0, draw=0).to_numpy()\n",
    "\n",
    "_, ax = plt.subplots(1,2, figsize=(8,4))\n",
    "sns.histplot(posterior_alpha_beta, x='alpha', bins=30, ax=ax[0])\n",
    "ax[0].axvline(true_alpha, color='r', linewidth=2)\n",
    "sns.histplot(posterior_alpha_beta, x='beta', bins=30, ax=ax[1])\n",
    "ax[1].axvline(true_beta, color='r', linewidth=2);"
   ]
  },
  {
   "cell_type": "markdown",
   "metadata": {},
   "source": [
    "We don't do a great job recovering the parameters here simply because we're simulating so few observations that the posterior uncertainty remains rather large, but it looks at least _plausible_ ($\\alpha$ and $\\beta$ are contained within the histograms). If we did the simulation with many more observations the parameters would be estimated much more precisely.\n",
    "\n",
    "We should also check if the `y_rep` datasets (in-sample predictions) that we coded in the `generated quantities` block are similar to the `y` (complaints) values we conditioned on when fitting the model.\n",
    "\n",
    "Here is a plot of the density estimate of the observed data compared to 200 of the `y_rep` datasets: "
   ]
  },
  {
   "cell_type": "code",
   "execution_count": null,
   "metadata": {},
   "outputs": [],
   "source": [
    "y_rep = az.from_cmdstanpy(fit_model_P).posterior.y_rep\n",
    "\n",
    "for i in range(200):\n",
    "    sns.kdeplot(y_rep.sel(chain=slice(0,4), draw=i).to_dataframe(), x='y_rep', color='k', alpha=0.2)\n",
    "sns.kdeplot(stan_dat_fake['complaints'], color='r', linewidth=2)\n",
    "plt.xlim(0,12);"
   ]
  },
  {
   "cell_type": "markdown",
   "metadata": {},
   "source": [
    "In the plot above we have the kernel density estimate of the observed data ($y$, thicker curve) and 200 simulated data sets ($y_{rep}$, thin curves) from the posterior predictive distribution. If the model fits the data well, as it does here, there is little difference between the observed dataset and the simulated datasets.\n",
    "\n",
    "Another plot we can make for count data is a rootogram. This is a plot of the expected counts (continuous line) vs the observed counts (blue histogram). We\n",
    "can see the model fits well because the observed histogram matches the expected counts relatively well."
   ]
  },
  {
   "cell_type": "code",
   "execution_count": null,
   "metadata": {},
   "outputs": [],
   "source": [
    "fig, ax = plt.subplots()\n",
    "vals, counts = np.unique(y_rep.to_dataframe()['y_rep'].to_numpy(), return_counts=True)\n",
    "hist_range = (min(vals), max(vals))\n",
    "az.plot_dist(stan_dat_fake['complaints'], kind='hist', ax=ax, \n",
    "             hist_kwargs={'bins': np.arange(hist_range[0], hist_range[1] + 1, 1), 'range': hist_range})\n",
    "\n",
    "secax = ax.twinx()\n",
    "secax.plot(vals, counts, color='red', linestyle='dashed', marker='o')\n",
    "\n",
    "ax.set_xlim(hist_range[0]-0.5, hist_range[1]+0.5)\n",
    "\n",
    "secax.set_yticklabels([])\n",
    "secax.yaxis.set_ticks([]);"
   ]
  },
  {
   "cell_type": "markdown",
   "metadata": {},
   "source": [
    "### Fit with real data "
   ]
  },
  {
   "cell_type": "markdown",
   "metadata": {},
   "source": [
    "To fit the model to the actual observed data we'll first create a dictionary to pass to Stan using the variables in the `pest_data` data frame:"
   ]
  },
  {
   "cell_type": "code",
   "execution_count": null,
   "metadata": {},
   "outputs": [],
   "source": [
    "stan_dat_simple = {\n",
    "    'N': len(pest_data.traps),\n",
    "    'complaints': pest_data.complaints,\n",
    "    'traps': pest_data.traps\n",
    "}"
   ]
  },
  {
   "cell_type": "code",
   "execution_count": null,
   "metadata": {},
   "outputs": [],
   "source": [
    "fit_P_real_data = simple_poisson_regression_model.sample(data=stan_dat_simple, show_progress=False)\n",
    "az_fit_P_real_data = az.from_cmdstanpy(fit_P_real_data, posterior_predictive='y_rep')\n",
    "\n",
    "summary = fit_P_real_data.summary(percentiles=(2.5, 25, 50, 75, 97.5))\n",
    "summary[~summary.index.str.contains('y_rep')]"
   ]
  },
  {
   "cell_type": "markdown",
   "metadata": {},
   "source": [
    "We can also plot the posterior distributions: "
   ]
  },
  {
   "cell_type": "code",
   "execution_count": null,
   "metadata": {},
   "outputs": [],
   "source": [
    "import matplotlib.ticker as mticker\n",
    "\n",
    "_, ax = plt.subplots(1,2, figsize=(8,4))\n",
    "az.plot_dist(az_fit_P_real_data.posterior.alpha, kind='hist', ax=ax[0])\n",
    "az.plot_dist(az_fit_P_real_data.posterior.beta, kind='hist', ax=ax[1])\n",
    "for a in ax:\n",
    "    a.xaxis.set_major_locator(mticker.MaxNLocator(nbins=5))"
   ]
  },
  {
   "cell_type": "markdown",
   "metadata": {},
   "source": [
    "As we expected, it appears the number of bait stations set in a building is associated with the number of complaints about cockroaches that were made in the following month. However, we still need to consider how well the model fits."
   ]
  },
  {
   "cell_type": "markdown",
   "metadata": {},
   "source": [
    "### Posterior predictive checking"
   ]
  },
  {
   "cell_type": "code",
   "execution_count": null,
   "metadata": {},
   "outputs": [],
   "source": [
    "y_rep = az_fit_P_real_data.posterior_predictive.y_rep\n",
    "\n",
    "for i in range(200):\n",
    "    sns.kdeplot(y_rep.sel(chain=slice(0), draw=i).to_dataframe(), x='y_rep', color='k', alpha=0.2)\n",
    "sns.kdeplot(stan_dat_simple['complaints'], color='r', linewidth=2)\n",
    "plt.xlim(0,25);"
   ]
  },
  {
   "cell_type": "markdown",
   "metadata": {},
   "source": [
    "As opposed to when we fit the model to simulated data above, here the simulated datasets is not as dispersed as the observed data and don't seem to capture the rate of zeros in the observed data. The Poisson model may not be sufficient for this data.\n",
    "\n",
    "Let's explore this further by looking directly at the proportion of zeros in the real data and predicted data."
   ]
  },
  {
   "cell_type": "code",
   "execution_count": null,
   "metadata": {},
   "outputs": [],
   "source": [
    "_, ax = plt.subplots()\n",
    "sns.histplot(np.mean(y_rep == 0, axis=2).to_numpy().flatten(), bins=20, ax=ax)\n",
    "ax.axvline(np.mean(stan_dat_simple['complaints'] == 0), linewidth=2, color='r');"
   ]
  },
  {
   "cell_type": "markdown",
   "metadata": {},
   "source": [
    "The plot above shows the observed proportion of zeros (thick vertical line) and a histogram of the proportion of zeros in each of the simulated data sets. It is clear that the model does not capture this feature of the data well at all.\n",
    "\n",
    "This next plot is a plot of the standardised residuals of the observed vs predicted number of complaints. "
   ]
  },
  {
   "cell_type": "code",
   "execution_count": null,
   "metadata": {},
   "outputs": [],
   "source": [
    "mean_y_rep = y_rep.mean(dim=['chain', 'draw'])\n",
    "std_resid = (stan_dat_simple['complaints'] - mean_y_rep) / np.sqrt(mean_y_rep)\n",
    "plt.plot(mean_y_rep, std_resid, 'o', alpha=0.5)\n",
    "plt.axhline(2, linestyle='--')\n",
    "plt.axhline(-2, linestyle='--')\n",
    "plt.xlabel('mean_y_rep')\n",
    "plt.ylabel('std_resid');"
   ]
  },
  {
   "cell_type": "markdown",
   "metadata": {},
   "source": [
    "As you can see here, it looks as though we have more positive residuals than negative, which indicates that the model tends to underestimate the number of complaints that will be received.\n",
    "\n",
    "Below another useful plot to compare the observed vs expected number of complaints. This is a plot of the expected counts (continuous line) vs the observed counts (black histogram):"
   ]
  },
  {
   "cell_type": "code",
   "execution_count": null,
   "metadata": {},
   "outputs": [],
   "source": [
    "fig, ax = plt.subplots()\n",
    "vals, counts = np.unique(y_rep, return_counts=True)\n",
    "hist_range = (min(vals), max(vals))\n",
    "az.plot_dist(stan_dat_simple['complaints'], kind='hist', ax=ax, \n",
    "             hist_kwargs={'bins': np.arange(hist_range[0], hist_range[1] + 1, 1), 'range': hist_range})\n",
    "\n",
    "secax = ax.twinx()\n",
    "secax.plot(vals, counts, color='red', linestyle='dashed', marker='o')\n",
    "\n",
    "ax.set_xlim(hist_range[0]-0.5, hist_range[1]+0.5)\n",
    "\n",
    "secax.set_yticklabels([])\n",
    "secax.yaxis.set_ticks([]);"
   ]
  },
  {
   "cell_type": "markdown",
   "metadata": {},
   "source": [
    "If the model was fitting well these would be relatively similar, however in this figure we can see the number of complaints is underestimated if there are few complaints, over-estimated for medium numbers of complaints, and underestimated if there are a large number of complaints.\n",
    "\n",
    "We can also view how the predicted number of complaints varies with the number of traps. From this we can see that the model doesn't seem to fully capture the data."
   ]
  },
  {
   "cell_type": "code",
   "execution_count": null,
   "metadata": {},
   "outputs": [],
   "source": [
    "from collections import defaultdict\n",
    "\n",
    "_, ax = plt.subplots()\n",
    "\n",
    "ax.plot(stan_dat_simple['traps'], stan_dat_simple['complaints'], 'o', fillstyle='none')\n",
    "\n",
    "grouped_indices = defaultdict(list)\n",
    "for idx, trap in enumerate(stan_dat_simple['traps']):\n",
    "    grouped_indices[trap].append(idx)\n",
    "\n",
    "grouped_array = {trap: y_rep[:, :, idx_list].to_numpy().flatten() for trap, idx_list in grouped_indices.items()}\n",
    "\n",
    "for traps_x, complaints_y in grouped_array.items():\n",
    "    inner_prob = np.array([np.quantile(complaints_y, 0.75), np.quantile(complaints_y, 0.25)])  # az.hdi(complaints_y, hdi_prob=0.5)\n",
    "    outer_prob = np.array([np.quantile(complaints_y, 0.95), np.quantile(complaints_y, 0.05)])  # az.hdi(complaints_y, hdi_prob=0.9)\n",
    "    ax.plot(np.full(inner_prob.shape, traps_x), inner_prob, 'k', linewidth=2)\n",
    "    ax.plot(np.full(outer_prob.shape, traps_x), outer_prob, 'k', linewidth=0.5)\n",
    "    ax.plot(traps_x, np.mean(complaints_y), 'ko')"
   ]
  },
  {
   "cell_type": "markdown",
   "metadata": {},
   "source": [
    "Specifically, the model doesn't capture the tails of the observed data very well."
   ]
  },
  {
   "cell_type": "markdown",
   "metadata": {},
   "source": [
    "## Expanding the model: multiple predictors"
   ]
  },
  {
   "cell_type": "markdown",
   "metadata": {},
   "source": [
    "Modeling the relationship between complaints and bait stations is the simplest model. We can expand the model, however, in a few ways that will be beneficial for our client. Moreover, the manager has told us that they expect there are a number of other reasons that one building might have more roach complaints than another."
   ]
  },
  {
   "cell_type": "markdown",
   "metadata": {},
   "source": [
    "### Interpretability"
   ]
  },
  {
   "cell_type": "markdown",
   "metadata": {},
   "source": [
    "Currently, our model's mean parameter is a rate of complaints per 30 days, but we're modeling a process that occurs over an area as well as over time. We have the square footage of each building, so if we add that information into the model, we can interpret our parameters as a rate of complaints per square foot per 30 days.\n",
    "\n",
    "$$\n",
    "\\begin{align*}\n",
    "\\textrm{complaints}_{b,t} & \\sim \\textrm{Poisson}(\\textrm{sq. foot}_b\\,\\lambda_{b,t}) \\\\\n",
    "\\lambda_{b,t} & = \\exp{(\\eta_{b,t} )} \\\\\n",
    "\\eta_{b,t} &= \\alpha + \\beta \\, \\textrm{traps}_{b,t}\n",
    "\\end{align*}\n",
    "$$\n",
    "\n",
    "The term $\\text{sq. foot}$ is called an **exposure term**. If we log the term, we can put it in $\\eta_{b,t}$:\n",
    "\n",
    "$$\n",
    "\\begin{align*}\n",
    "\\textrm{complaints}_{b,t} & \\sim \\textrm{Poisson}(\\lambda_{b,t}) \\\\\n",
    "\\lambda_{b,t} & = \\exp{(\\eta_{b,t} )} \\\\\n",
    "\\eta_{b,t} &= \\alpha + \\beta \\, \\textrm{traps}_{b,t} + \\textrm{log sq. foot}_b\n",
    "\\end{align*}\n",
    "$$"
   ]
  },
  {
   "cell_type": "markdown",
   "metadata": {},
   "source": [
    "A quick test shows us that there appears to be a relationship between the square footage of the building and the number of complaints received:"
   ]
  },
  {
   "cell_type": "code",
   "execution_count": null,
   "metadata": {},
   "outputs": [],
   "source": [
    "sns.regplot(x=np.log(pest_data.total_sq_foot),y=np.log1p(pest_data.complaints));"
   ]
  },
  {
   "cell_type": "markdown",
   "metadata": {},
   "source": [
    "Using the property manager's intuition, we include two extra pieces of information we know about the building - the (log of the) square floor space and whether there is a live in super or not - into both the simulated and real data."
   ]
  }
 ],
 "metadata": {
  "kernelspec": {
   "display_name": "main",
   "language": "python",
   "name": "main"
  },
  "language_info": {
   "codemirror_mode": {
    "name": "ipython",
    "version": 3
   },
   "file_extension": ".py",
   "mimetype": "text/x-python",
   "name": "python",
   "nbconvert_exporter": "python",
   "pygments_lexer": "ipython3",
   "version": "3.13.2"
  }
 },
 "nbformat": 4,
 "nbformat_minor": 2
}
