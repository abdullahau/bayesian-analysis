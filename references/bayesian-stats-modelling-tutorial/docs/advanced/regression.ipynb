{
 "cells": [
  {
   "cell_type": "code",
   "execution_count": null,
   "metadata": {},
   "outputs": [],
   "source": [
    "%load_ext autoreload\n",
    "%autoreload 2\n",
    "%matplotlib inline\n",
    "%config InlineBackend.figure_format = 'retina'"
   ]
  },
  {
   "cell_type": "markdown",
   "metadata": {},
   "source": [
    "## Introduction\n",
    "\n",
    "In this chapter, we are going to look at how to do _regression_ modelling.\n",
    "\n",
    "Regression modelling takes estimation one step further\n",
    "beyond what we've been doing these past few chapters.\n",
    "Prior to this chapter, we were doing pure _estimation_.\n",
    "There was a key parameter of interest, $p$,\n",
    "which represented something useful about our system under study\n",
    "(average favourability of ice cream shops).\n",
    "We collected data that gave us hints\n",
    "as to what the \"true\" value of the key parameter of interest might be."
   ]
  },
  {
   "cell_type": "code",
   "execution_count": null,
   "metadata": {},
   "outputs": [],
   "source": []
  }
 ],
 "metadata": {
  "kernelspec": {
   "display_name": "bayesian-modelling-tutorial",
   "language": "python",
   "name": "bayesian-modelling-tutorial"
  },
  "language_info": {
   "codemirror_mode": {
    "name": "ipython",
    "version": 3
   },
   "file_extension": ".py",
   "mimetype": "text/x-python",
   "name": "python",
   "nbconvert_exporter": "python",
   "pygments_lexer": "ipython3",
   "version": "3.8.5"
  }
 },
 "nbformat": 4,
 "nbformat_minor": 4
}
