{
 "cells": [
  {
   "cell_type": "markdown",
   "metadata": {},
   "source": [
    "## 04b - The Many Variables & The Spurious Waffles"
   ]
  },
  {
   "cell_type": "markdown",
   "metadata": {},
   "source": [
    "#### Imports"
   ]
  },
  {
   "cell_type": "code",
   "execution_count": null,
   "metadata": {},
   "outputs": [
    {
     "name": "stdout",
     "output_type": "stream",
     "text": [
      "\u001b[31mModule aliases imported by init_notebook.py:\n",
      "--------------------------------------------\n",
      "\u001b[32mimport\u001b[34m numpy \u001b[32mas\u001b[34m np\n",
      "\n",
      "\u001b[32mimport\u001b[34m pandas \u001b[32mas\u001b[34m pd\n",
      "\n",
      "\u001b[32mimport\u001b[34m pymc \u001b[32mas\u001b[34m pm\n",
      "\n",
      "\u001b[32mimport\u001b[34m arviz \u001b[32mas\u001b[34m az\n",
      "\n",
      "\u001b[32mimport\u001b[34m utils \u001b[32mas\u001b[34m utils\n",
      "\n",
      "\u001b[32mfrom\u001b[34m scipy \u001b[32mimport\u001b[34m stats \u001b[32mas\u001b[34m stats\n",
      "\n",
      "\u001b[32mfrom\u001b[34m matplotlib \u001b[32mimport\u001b[34m pyplot \u001b[32mas\u001b[34m plt\n",
      "\n",
      "\u001b[31mWatermark:\n",
      "----------\n",
      "\u001b[34mLast updated: 2025-02-19T15:28:17.008683+04:00\n",
      "\n",
      "Python implementation: CPython\n",
      "Python version       : 3.12.8\n",
      "IPython version      : 8.32.0\n",
      "\n",
      "Compiler    : Clang 18.1.8 \n",
      "OS          : Darwin\n",
      "Release     : 24.3.0\n",
      "Machine     : arm64\n",
      "Processor   : arm\n",
      "CPU cores   : 8\n",
      "Architecture: 64bit\n",
      "\n",
      "\u001b[34mnumpy     : 1.26.4\n",
      "scipy     : 1.12.0\n",
      "arviz     : 0.20.0\n",
      "pymc      : 5.20.1\n",
      "watermark : 2.5.0\n",
      "matplotlib: 3.10.0\n",
      "pandas    : 2.2.3\n",
      "\n"
     ]
    }
   ],
   "source": [
    "# ruff: noqa: F405\n",
    "from init_notebook import *\n",
    "from causalgraphicalmodels import CausalGraphicalModel\n",
    "import daft as daft\n",
    "\n",
    "%config InlineBackend.figure_formats = ['svg']"
   ]
  },
  {
   "cell_type": "markdown",
   "metadata": {},
   "source": [
    "#### Masked Relationship"
   ]
  },
  {
   "cell_type": "markdown",
   "metadata": {},
   "source": []
  }
 ],
 "metadata": {
  "kernelspec": {
   "display_name": "base",
   "language": "python",
   "name": "python3"
  },
  "language_info": {
   "codemirror_mode": {
    "name": "ipython",
    "version": 3
   },
   "file_extension": ".py",
   "mimetype": "text/x-python",
   "name": "python",
   "nbconvert_exporter": "python",
   "pygments_lexer": "ipython3",
   "version": "3.12.8"
  }
 },
 "nbformat": 4,
 "nbformat_minor": 2
}
