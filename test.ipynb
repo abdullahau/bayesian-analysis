{
 "cells": [
  {
   "cell_type": "code",
   "execution_count": 1,
   "metadata": {
    "vscode": {
     "languageId": "r"
    }
   },
   "outputs": [
    {
     "name": "stderr",
     "output_type": "stream",
     "text": [
      "Loading required package: cmdstanr\n",
      "\n",
      "This is cmdstanr version 0.8.1\n",
      "\n",
      "- CmdStanR documentation and vignettes: mc-stan.org/cmdstanr\n",
      "\n",
      "- CmdStan path: /Users/rehabnaeem/.cmdstan/cmdstan-2.36.0\n",
      "\n",
      "- CmdStan version: 2.36.0\n",
      "\n",
      "Loading required package: posterior\n",
      "\n",
      "This is posterior version 1.6.0.9000\n",
      "\n",
      "\n",
      "Attaching package: 'posterior'\n",
      "\n",
      "\n",
      "The following objects are masked from 'package:stats':\n",
      "\n",
      "    mad, sd, var\n",
      "\n",
      "\n",
      "The following objects are masked from 'package:base':\n",
      "\n",
      "    %in%, match\n",
      "\n",
      "\n",
      "Loading required package: parallel\n",
      "\n",
      "Warning message in (function (n) :\n",
      "\"strings not representable in native encoding will be translated to UTF-8\"\n",
      "Warning message in (function (n) :\n",
      "\"strings not representable in native encoding will be translated to UTF-8\"\n",
      "Warning message in (function (n) :\n",
      "\"strings not representable in native encoding will be translated to UTF-8\"\n",
      "rethinking (Version 2.42)\n",
      "\n",
      "\n",
      "Attaching package: 'rethinking'\n",
      "\n",
      "\n",
      "The following object is masked from 'package:stats':\n",
      "\n",
      "    rstudent\n",
      "\n",
      "\n"
     ]
    }
   ],
   "source": [
    "library(rethinking)"
   ]
  },
  {
   "cell_type": "code",
   "execution_count": 5,
   "metadata": {
    "vscode": {
     "languageId": "r"
    }
   },
   "outputs": [
    {
     "data": {
      "text/html": [
       "<table class=\"dataframe\">\n",
       "<caption>A precis: 1 x 4</caption>\n",
       "<thead>\n",
       "\t<tr><th></th><th scope=col>mean</th><th scope=col>sd</th><th scope=col>5.5%</th><th scope=col>94.5%</th></tr>\n",
       "\t<tr><th></th><th scope=col>&lt;dbl&gt;</th><th scope=col>&lt;dbl&gt;</th><th scope=col>&lt;dbl&gt;</th><th scope=col>&lt;dbl&gt;</th></tr>\n",
       "</thead>\n",
       "<tbody>\n",
       "\t<tr><th scope=row>p</th><td>0.6666664</td><td>0.1571338</td><td>0.4155362</td><td>0.9177966</td></tr>\n",
       "</tbody>\n",
       "</table>\n"
      ],
      "text/latex": [
       "A precis: 1 x 4\n",
       "\\begin{tabular}{r|llll}\n",
       "  & mean & sd & 5.5\\% & 94.5\\%\\\\\n",
       "  & <dbl> & <dbl> & <dbl> & <dbl>\\\\\n",
       "\\hline\n",
       "\tp & 0.6666664 & 0.1571338 & 0.4155362 & 0.9177966\\\\\n",
       "\\end{tabular}\n"
      ],
      "text/markdown": [
       "\n",
       "A precis: 1 x 4\n",
       "\n",
       "| <!--/--> | mean &lt;dbl&gt; | sd &lt;dbl&gt; | 5.5% &lt;dbl&gt; | 94.5% &lt;dbl&gt; |\n",
       "|---|---|---|---|---|\n",
       "| p | 0.6666664 | 0.1571338 | 0.4155362 | 0.9177966 |\n",
       "\n"
      ],
      "text/plain": [
       "  mean      sd        5.5%      94.5%    \n",
       "p 0.6666664 0.1571338 0.4155362 0.9177966"
      ]
     },
     "metadata": {},
     "output_type": "display_data"
    }
   ],
   "source": [
    "globe.qa <- quap(\n",
    "    alist(\n",
    "        W ~ dbinom( W+L ,p) , # binomial likelihood\n",
    "        p ~ dunif(0,1) # uniform prior\n",
    "    ) ,\n",
    "    data=list(W=6,L=3) )\n",
    "\n",
    "# display summary of quadratic approximation\n",
    "precis( globe.qa )"
   ]
  }
 ],
 "metadata": {
  "kernelspec": {
   "display_name": "R",
   "language": "R",
   "name": "ir"
  },
  "language_info": {
   "codemirror_mode": "r",
   "file_extension": ".r",
   "mimetype": "text/x-r-source",
   "name": "R",
   "pygments_lexer": "r",
   "version": "4.4.2"
  }
 },
 "nbformat": 4,
 "nbformat_minor": 2
}
